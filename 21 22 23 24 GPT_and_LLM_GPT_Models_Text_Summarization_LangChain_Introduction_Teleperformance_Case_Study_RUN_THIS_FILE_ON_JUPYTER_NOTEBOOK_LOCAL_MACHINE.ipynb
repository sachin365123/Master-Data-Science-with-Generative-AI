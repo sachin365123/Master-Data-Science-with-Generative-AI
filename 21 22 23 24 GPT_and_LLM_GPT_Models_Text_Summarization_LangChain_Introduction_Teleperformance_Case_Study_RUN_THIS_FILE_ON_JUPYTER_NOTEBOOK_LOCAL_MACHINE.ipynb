{
  "cells": [
    {
      "cell_type": "markdown",
      "id": "55db2089-9ccf-4fa2-996e-3fc8b3e12733",
      "metadata": {
        "id": "55db2089-9ccf-4fa2-996e-3fc8b3e12733"
      },
      "source": [
        "# Part 1: Basics of GPT and LLM"
      ]
    },
    {
      "cell_type": "markdown",
      "id": "ae7d283e-8a6d-4935-a017-906f6cf100d2",
      "metadata": {
        "id": "ae7d283e-8a6d-4935-a017-906f6cf100d2"
      },
      "source": [
        "**-----------------------------------------------------------------------------------------------------------------**"
      ]
    },
    {
      "cell_type": "markdown",
      "id": "bd920170-af15-45bf-a429-630356ec976f",
      "metadata": {
        "id": "bd920170-af15-45bf-a429-630356ec976f"
      },
      "source": [
        "*In this lecture we are going to explore:*\n",
        "\n",
        "1. What are GPT models?\n",
        "2. How GPT models Works?\n",
        "3. Python implementation of LangChain."
      ]
    },
    {
      "cell_type": "markdown",
      "id": "f82bc589-0789-4097-8cc1-c2a449563cb7",
      "metadata": {
        "id": "f82bc589-0789-4097-8cc1-c2a449563cb7"
      },
      "source": [
        "**-----------------------------------------------------------------------------------------------------------------**"
      ]
    },
    {
      "cell_type": "markdown",
      "id": "4713ec59-f2fb-43b8-8a61-7ba20317c602",
      "metadata": {
        "id": "4713ec59-f2fb-43b8-8a61-7ba20317c602"
      },
      "source": [
        "![1 GPT 1.png](attachment:02b91b3c-4bc1-41f1-ad2e-5acaf43bcd6e.png)"
      ]
    },
    {
      "cell_type": "markdown",
      "id": "30bb8010-5e7b-4532-ac72-53321f28adc1",
      "metadata": {
        "id": "30bb8010-5e7b-4532-ac72-53321f28adc1"
      },
      "source": [
        "* A brief illustration for the technical evolution of GPT-series models."
      ]
    },
    {
      "cell_type": "markdown",
      "id": "699d5c32-73c7-4e7c-8f56-083a1189adeb",
      "metadata": {
        "id": "699d5c32-73c7-4e7c-8f56-083a1189adeb"
      },
      "source": [
        "* Generative pretrained transformers (GPTs) are a family of large language models (LLMs) based on a transformer deep learning architecture.\n",
        "* Developed by OpenAI, these foundation models power ChatGPT and other generative AI applications capable of simulating human-created output."
      ]
    },
    {
      "cell_type": "markdown",
      "id": "63db5c28-ab40-49b3-a4da-ddffc36fe2d9",
      "metadata": {
        "id": "63db5c28-ab40-49b3-a4da-ddffc36fe2d9"
      },
      "source": [
        "* **Why is GPT important?**\n",
        "* GPT models have accelerated generative AI development thanks to their transformer architecture, a type of neural network introduced in 2017 in the Google Brain paper Attention Is All You Need2.\n",
        "* Transformer models including GPT and BERT have powered many notable developments in generative AI since then, with OpenAI’s ChatGPT chatbot taking center stage."
      ]
    },
    {
      "cell_type": "markdown",
      "id": "352421fc-ee51-4298-b2df-e3e248a52b4c",
      "metadata": {
        "id": "352421fc-ee51-4298-b2df-e3e248a52b4c"
      },
      "source": [
        "![1 GPT 2.png](attachment:c2bdffd5-04b7-4c17-a573-ae8c83cd5fdf.png)"
      ]
    },
    {
      "cell_type": "markdown",
      "id": "e4e82f88-e1b9-46b1-99fb-f0009f4ccff5",
      "metadata": {
        "id": "e4e82f88-e1b9-46b1-99fb-f0009f4ccff5"
      },
      "source": [
        "* An illustration of a typical data preprocessing pipeline for pre-training large language models"
      ]
    },
    {
      "cell_type": "markdown",
      "id": "ee752703-4e81-4faf-a155-d4ce9fad91c9",
      "metadata": {
        "id": "ee752703-4e81-4faf-a155-d4ce9fad91c9"
      },
      "source": [
        "* Large language models, also known as LLMs, are very large deep learning models that are pre-trained on vast amounts of data.\n",
        "* The underlying transformer is a set of neural networks that consist of an encoder and a decoder with self-attention capabilities.\n",
        "* The encoder and decoder extract meanings from a sequence of text and understand the relationships between words and phrases in it."
      ]
    },
    {
      "cell_type": "markdown",
      "id": "a1cc7dab-eec5-429b-b40b-a6c81a76272c",
      "metadata": {
        "id": "a1cc7dab-eec5-429b-b40b-a6c81a76272c"
      },
      "source": [
        "* **Three common learning models exist:**\n",
        "  \n",
        "1. Zero-shot learning; Base LLMs can respond to a broad range of requests without explicit training, often through prompts, although answer accuracy varies.\n",
        "2. Few-shot learning: By providing a few relevant training examples, base model performance significantly improves in that specific area.\n",
        "3. Fine-tuning: This is an extension of few-shot learning in that data scientists train a base model to adjust its parameters with additional data relevant to the specific application."
      ]
    },
    {
      "cell_type": "markdown",
      "id": "7a88355c-14a8-42b7-8c15-96b16556f0b1",
      "metadata": {
        "id": "7a88355c-14a8-42b7-8c15-96b16556f0b1"
      },
      "source": [
        "![1 GPT 3.png](attachment:5dbe3c27-2772-422e-8849-41164c6909a6.png)"
      ]
    },
    {
      "cell_type": "markdown",
      "id": "567154ba-1905-49a6-a113-93efb4d32160",
      "metadata": {
        "id": "567154ba-1905-49a6-a113-93efb4d32160"
      },
      "source": [
        "# How do LLMs work?\n",
        "* A simplified version of the LLM training process\n",
        "\n",
        "![1 GPT 4.png](attachment:33e08c6c-3899-4b12-b0b2-39614dd7a4bc.png)"
      ]
    },
    {
      "cell_type": "markdown",
      "id": "6dc1f964-5f60-4d2c-a401-0996e27f81ec",
      "metadata": {
        "id": "6dc1f964-5f60-4d2c-a401-0996e27f81ec"
      },
      "source": [
        "References: https://www.databricks.com/glossary/large-language-models-llm"
      ]
    },
    {
      "cell_type": "markdown",
      "id": "23f2b57d",
      "metadata": {
        "id": "23f2b57d"
      },
      "source": [
        "# Part 2: Setting up the API"
      ]
    },
    {
      "cell_type": "code",
      "execution_count": null,
      "id": "Ug-7wmUPcFVU",
      "metadata": {
        "id": "Ug-7wmUPcFVU"
      },
      "outputs": [],
      "source": [
        "# pip install openai==0.28"
      ]
    },
    {
      "cell_type": "code",
      "execution_count": null,
      "id": "d6342a76",
      "metadata": {
        "id": "d6342a76"
      },
      "outputs": [],
      "source": [
        "import openai\n"
      ]
    },
    {
      "cell_type": "code",
      "execution_count": null,
      "id": "8aa745a1-65f1-4bae-9769-ae6b2e56e65b",
      "metadata": {
        "id": "8aa745a1-65f1-4bae-9769-ae6b2e56e65b"
      },
      "outputs": [],
      "source": [
        "api_key=\"your secret key here\""
      ]
    },
    {
      "cell_type": "code",
      "execution_count": null,
      "id": "d12df389",
      "metadata": {
        "id": "d12df389"
      },
      "outputs": [],
      "source": [
        "open.api_key=api_key"
      ]
    },
    {
      "cell_type": "code",
      "execution_count": null,
      "id": "q9LNvtS0a2Fr",
      "metadata": {
        "id": "q9LNvtS0a2Fr"
      },
      "outputs": [],
      "source": [
        "# Make payment or check from here\n",
        "# https://platform.openai.com/usage\n",
        "# https://platform.openai.com/settings/organization/billing/overview\n",
        "\n"
      ]
    },
    {
      "cell_type": "markdown",
      "id": "691da4eb",
      "metadata": {
        "id": "691da4eb"
      },
      "source": [
        "## Generating Text"
      ]
    },
    {
      "cell_type": "code",
      "execution_count": null,
      "id": "347405c1-c63b-4604-9b9d-8fdd09602718",
      "metadata": {
        "id": "347405c1-c63b-4604-9b9d-8fdd09602718"
      },
      "outputs": [],
      "source": [
        "import os"
      ]
    },
    {
      "cell_type": "code",
      "execution_count": null,
      "id": "5ae9ff48-bfa9-4d92-a27b-f5f4ef395e2c",
      "metadata": {
        "id": "5ae9ff48-bfa9-4d92-a27b-f5f4ef395e2c"
      },
      "outputs": [],
      "source": [
        "# Set up the OpenAI client\n",
        "client = openai.OpenAI(api_key=api_key)\n",
        "  # Fetch API key from env"
      ]
    },
    {
      "cell_type": "code",
      "execution_count": null,
      "id": "a07a1d80-bd7e-40b1-8609-778eee731694",
      "metadata": {
        "id": "a07a1d80-bd7e-40b1-8609-778eee731694"
      },
      "outputs": [],
      "source": [
        "# Temprature reference: https://community.openai.com/t/cheat-sheet-mastering-temperature-and-top-p-in-chatgpt-api/172683"
      ]
    },
    {
      "cell_type": "code",
      "execution_count": null,
      "id": "Zw8ES2Vec1p7",
      "metadata": {
        "id": "Zw8ES2Vec1p7"
      },
      "outputs": [],
      "source": [
        "def generate_text(prompt):\n",
        "    response = client.chat.completions.create(  # Use chat.completions.create instead of completions.create\n",
        "        model=\"gpt-3.5-turbo\",\n",
        "        messages=[{\"role\": \"user\", \"content\": prompt}],  # Use the correct message format\n",
        "        max_tokens=50,\n",
        "        temperature=0.7\n",
        "    )\n",
        "    return response.choices[0].message.content.strip()"
      ]
    },
    {
      "cell_type": "code",
      "execution_count": null,
      "id": "0e239e03-e311-49e7-bddf-f521eae40eca",
      "metadata": {
        "id": "0e239e03-e311-49e7-bddf-f521eae40eca"
      },
      "outputs": [],
      "source": [
        "# Teleperformnace Resource: https://en.wikipedia.org/wiki/Teleperformance"
      ]
    },
    {
      "cell_type": "code",
      "execution_count": null,
      "id": "7f6dcb87-6c70-4154-acb8-45ea9c482b3e",
      "metadata": {
        "id": "7f6dcb87-6c70-4154-acb8-45ea9c482b3e",
        "outputId": "b98fc37c-7f03-4fe9-a39e-5e3181d96e17"
      },
      "outputs": [
        {
          "name": "stdout",
          "output_type": "stream",
          "text": [
            "Teleperformance is a global outsourcing company that offers customer service, technical support, sales, and other business process outsourcing services to companies around the world. The company was founded in 1978 in Paris, France, and has since grown to become one of\n"
          ]
        }
      ],
      "source": [
        "prompt =\"Tell me about Teleperformance Private Company\"\n",
        "generated_text = generate_text(prompt)\n",
        "print(generated_text)\n",
        "\n",
        "\n"
      ]
    },
    {
      "cell_type": "code",
      "execution_count": null,
      "id": "06655469-3923-4694-987d-9998f82476a1",
      "metadata": {
        "id": "06655469-3923-4694-987d-9998f82476a1"
      },
      "outputs": [],
      "source": [
        "# you must use the messages format when working with gpt-3.5-turbo or gpt-4,\n",
        "# because these models are designed for chat-based interactions. The messages parameter is required and cannot be omitted."
      ]
    },
    {
      "cell_type": "code",
      "execution_count": null,
      "id": "1e99cb2c",
      "metadata": {
        "id": "1e99cb2c"
      },
      "outputs": [],
      "source": []
    },
    {
      "cell_type": "code",
      "execution_count": null,
      "id": "lYjUIUnrc8V7",
      "metadata": {
        "id": "lYjUIUnrc8V7"
      },
      "outputs": [],
      "source": [
        "# prompt =\"Write a short poem about AI\"\n"
      ]
    },
    {
      "cell_type": "markdown",
      "id": "8e8ff65b",
      "metadata": {
        "id": "8e8ff65b"
      },
      "source": [
        "## Customizing the Output"
      ]
    },
    {
      "cell_type": "code",
      "execution_count": null,
      "id": "6815d2a1",
      "metadata": {
        "id": "6815d2a1"
      },
      "outputs": [],
      "source": [
        "def generate_text(prompt, max_tokens, temperature):\n",
        "    response = client.chat.completions.create(        # Use chat.completions.create instead of completions.create\n",
        "        model=\"gpt-3.5-turbo\",\n",
        "        messages=[{\"role\": \"user\", \"content\": prompt}],  # Use the correct message format\n",
        "        max_tokens=max_tokens,\n",
        "        temperature=temperature\n",
        "    )\n",
        "    return response.choices[0].message.content.strip()\n",
        "\n",
        "\n",
        "\n",
        "\n"
      ]
    },
    {
      "cell_type": "code",
      "execution_count": null,
      "id": "372acc3b",
      "metadata": {
        "colab": {
          "base_uri": "https://localhost:8080/"
        },
        "id": "372acc3b",
        "outputId": "2a702543-4479-41ee-d391-57c6a1e31204"
      },
      "outputs": [
        {
          "name": "stdout",
          "output_type": "stream",
          "text": [
            "Tell me about Teleperformance Private Company Teleperformance is a global outsourcing company that provides customer service and technical support to businesses around the world. The company was founded in 1978 in Paris, France, and has since grown to become one of the largest outsourcing companies in the world.\n",
            "\n",
            "Tele\n"
          ]
        }
      ],
      "source": [
        "generated_text = generate_text(prompt, 50, 0)\n",
        "print(prompt, generated_text)"
      ]
    },
    {
      "cell_type": "code",
      "execution_count": null,
      "id": "a598f9f0-f531-435c-877f-f463d5269712",
      "metadata": {
        "id": "a598f9f0-f531-435c-877f-f463d5269712",
        "outputId": "b5638c5a-cfcd-4598-f042-b968ae89220a"
      },
      "outputs": [
        {
          "name": "stdout",
          "output_type": "stream",
          "text": [
            "Tell me about Teleperformance Private Company Teleperformance is a private company that is a global leader in customer experience management. The company was founded in 1978 and is headquartered in Paris, France. Teleperformance provides a wide range of outsourcing services, including customer care, technical support, and sales support.\n",
            "\n",
            "The company has a presence in over 80 countries and operates in more than 160 languages and dialects. Teleperformance serves a variety of industries, including telecommunications, financial services, healthcare, retail, and technology. \n",
            "\n",
            "Teleperformance prides itself on its commitment to excellence and innovation in customer service. The company has been recognized with numerous awards for its work in the industry, including being named a Leader in the 2021 Gartner Magic Quadrant for Customer Service BPO.\n",
            "\n",
            "Overall, Teleperformance is a trusted partner for businesses looking to improve their customer experience and drive growth through outsourcing services.\n"
          ]
        }
      ],
      "source": [
        "generated_text = generate_text(prompt, 500, 1)\n",
        "print(prompt, generated_text)"
      ]
    },
    {
      "cell_type": "code",
      "execution_count": null,
      "id": "YEEDDpU2e3WL",
      "metadata": {
        "id": "YEEDDpU2e3WL"
      },
      "outputs": [],
      "source": [
        "# It makes sense where the temperature is one.\n",
        "\n",
        "# It will be more random.\n",
        "\n",
        "# But because we've limited the number of tokens, it's quite hard to see that.\n",
        "\n",
        "# So let's up our number of max tokens to 50.\n",
        "\n",
        "# So when we allow the max tokens as 50 and the temperature of zero, we get the following response.\n",
        "\n",
        "# Once upon a time, there was a little girl who was born with a very special gift."
      ]
    },
    {
      "cell_type": "code",
      "execution_count": null,
      "id": "9295bd47",
      "metadata": {
        "id": "9295bd47"
      },
      "outputs": [],
      "source": [
        "\n"
      ]
    },
    {
      "cell_type": "markdown",
      "id": "4554f553",
      "metadata": {
        "id": "4554f553"
      },
      "source": [
        "## Part 3: Summarising Text"
      ]
    },
    {
      "cell_type": "code",
      "execution_count": null,
      "id": "Toj9HHpUfS5y",
      "metadata": {
        "id": "Toj9HHpUfS5y"
      },
      "outputs": [],
      "source": [
        "# we're going to learn how to create a function that can be given a large chunk of text and summarize\n",
        "\n",
        "# it by picking out the key words.\n",
        "\n",
        "# Because the model is able to understand language, it is then able to pick out the most important words\n",
        "\n",
        "# and phrases for us.\n",
        "\n",
        "# We create our function and provide messages to the model with instructions and examples of how we want\n",
        "\n",
        "# the model to respond.\n",
        "\n",
        "# There are three roles that can be used for messages.\n",
        "\n",
        "# The first messages are system messages.\n",
        "\n",
        "# These messages provide instructions to the model on what you want it to do and how it should respond\n",
        "\n",
        "# and behave right.\n",
        "\n",
        "# The second type of message is a user message.\n",
        "\n",
        "# This is an example of a user input.\n",
        "\n",
        "# So in this case the user input would be the block of text we want to summarize.\n",
        "\n",
        "# The third type of message is an assistant message.\n",
        "\n",
        "# This is an example of the correct output to the user input.\n",
        "\n",
        "# So here we have key words that have been pulled out from the block of text provided by the user.\n",
        "\n",
        "# These assistant messages serve as an example of how the model should respond."
      ]
    },
    {
      "cell_type": "code",
      "execution_count": null,
      "id": "c0fc98cd",
      "metadata": {
        "id": "c0fc98cd"
      },
      "outputs": [],
      "source": []
    },
    {
      "cell_type": "code",
      "execution_count": null,
      "id": "9591b827-61cd-4fb8-9bb1-4f29448742d4",
      "metadata": {
        "id": "9591b827-61cd-4fb8-9bb1-4f29448742d4"
      },
      "outputs": [],
      "source": [
        "\n",
        "# Set up the OpenAI client\n",
        "client = openai.OpenAI(api_key=api_key)  # Fetch API key from env\n",
        "\n",
        "def text_summarizer(prompt):\n",
        "    response = client.chat.completions.create(  # Updated function call\n",
        "        model=\"gpt-3.5-turbo\",\n",
        "        messages=[\n",
        "              {\n",
        "          \"role\": \"system\",\n",
        "          \"content\": \"You will be provided with a block of text, and your task is to extract a list of keywords from it.\"\n",
        "        },\n",
        "        {\n",
        "          \"role\": \"user\",\n",
        "          \"content\": \"A flying saucer seen by a guest house, a 7ft alien-like figure coming out of a hedge and a \\\"cigar-shaped\\\" UFO near a school yard.\\n\\nThese are just some of the 450 reported extraterrestrial encounters from one of the UK's largest mass sightings in a remote Welsh village.\\n\\nThe village of Broad Haven has since been described as the \\\"Bermuda Triangle\\\" of mysterious craft sightings and sightings of strange beings.\\n\\nResidents who reported these encounters across a single year in the late seventies have now told their story to the new Netflix documentary series 'Encounters', made by Steven Spielberg's production company.\\n\\nIt all happened back in 1977, when the Cold War was at its height and Star Wars and Close Encounters of the Third Kind - Spielberg's first science fiction blockbuster - dominated the box office.\"\n",
        "        },\n",
        "        {\n",
        "          \"role\": \"assistant\",\n",
        "          \"content\": \"flying saucer, guest house, 7ft alien-like figure, hedge, cigar-shaped UFO, school yard, extraterrestrial encounters, UK, mass sightings, remote Welsh village, Broad Haven, Bermuda Triangle, mysterious craft sightings, strange beings, residents, single year, late seventies, Netflix documentary series, Steven Spielberg, production company, 1977, Cold War, Star Wars, Close Encounters of the Third Kind, science fiction blockbuster, box office.\"\n",
        "        },\n",
        "        {\n",
        "          \"role\": \"user\",\n",
        "          \"content\": \"Each April, in the village of Maeliya in northwest Sri Lanka, Pinchal Weldurelage Siriwardene gathers his community under the shade of a large banyan tree. The tree overlooks a human-made body of water called a wewa – meaning reservoir or \\\"tank\\\" in Sinhala. The wewa stretches out besides the village's rice paddies for 175-acres (708,200 sq m) and is filled with the rainwater of preceding months.    \\n\\nSiriwardene, the 76-year-old secretary of the village's agrarian committee, has a tightly-guarded ritual to perform. By boiling coconut milk on an open hearth beside the tank, he will seek blessings for a prosperous harvest from the deities residing in the tree. \\\"It's only after that we open the sluice gate to water the rice fields,\\\" he told me when I visited on a scorching mid-April afternoon.\\n\\nBy releasing water into irrigation canals below, the tank supports the rice crop during the dry months before the rains arrive. For nearly two millennia, lake-like water bodies such as this have helped generations of farmers cultivate their fields. An old Sinhala phrase, \\\"wewai dagabai gamai pansalai\\\", even reflects the technology's centrality to village life; meaning \\\"tank, pagoda, village and temple\\\".\"\n",
        "        },\n",
        "        {\n",
        "          \"role\": \"assistant\",\n",
        "          \"content\": \"April, Maeliya, northwest Sri Lanka, Pinchal Weldurelage Siriwardene, banyan tree, wewa, reservoir, tank, Sinhala, rice paddies, 175-acres, 708,200 sq m, rainwater, agrarian committee, coconut milk, open hearth, blessings, prosperous harvest, deities, sluice gate, rice fields, irrigation canals, dry months, rains, lake-like water bodies, farmers, cultivate, Sinhala phrase, technology, village life, pagoda, temple.\"\n",
        "        },\n",
        "        {\n",
        "          \"role\": \"user\",\n",
        "          \"content\": prompt\n",
        "        }\n",
        "        ],\n",
        "        temperature=0.5,\n",
        "        max_tokens=256\n",
        "    )\n",
        "    return response.choices[0].message.content.strip()\n",
        "\n",
        "\n",
        "\n",
        "\n"
      ]
    },
    {
      "cell_type": "code",
      "execution_count": null,
      "id": "4b421dd8-c9d9-4a70-ada9-996d9cad1b12",
      "metadata": {
        "id": "4b421dd8-c9d9-4a70-ada9-996d9cad1b12",
        "outputId": "2f4b0e94-c876-439e-8589-1ec406b4f68c"
      },
      "outputs": [
        {
          "name": "stdout",
          "output_type": "stream",
          "text": [
            "Teleperformance, United Kingdom, government contracts, NHS contracts, support services, COVID-19 pandemic, 2020, Teleperformance Cloud Campus, Portugal, mobile cloud-enabled workstations, virtual onboarding, training, employee meetings, cloud campus hubs, Philippines, Mexico.\n"
          ]
        }
      ],
      "source": [
        "# Example usage\n",
        "prompt = \"\"\"Teleperformance secured multiple United Kingdom government and NHS contracts to operate support services for the public during the COVID-19 pandemic. In 2020, Teleperformance launched Teleperformance Cloud Campus in Portugal, with mobile cloud-enabled workstations for virtual onboarding, training, and employee meetings. There are currently cloud campus hubs in the Philippines and Mexico.\"\"\"\n",
        "summary = text_summarizer(prompt)\n",
        "print(summary)"
      ]
    },
    {
      "cell_type": "code",
      "execution_count": null,
      "id": "272cc352",
      "metadata": {
        "id": "272cc352",
        "scrolled": true
      },
      "outputs": [],
      "source": [
        "prompt = \"Teleperformance employs content moderators for platforms including TikTok, with moderators in Tunisia and Colombia, reviewing explicit content to remove it from the platform. Its Trust and Safety branch and moderation program were launched in 2019\"\n",
        "print(prompt)"
      ]
    },
    {
      "cell_type": "code",
      "execution_count": null,
      "id": "ed81104f",
      "metadata": {
        "colab": {
          "base_uri": "https://localhost:8080/",
          "height": 54
        },
        "id": "ed81104f",
        "outputId": "359584ff-5c06-467d-c9b9-f7433822274c"
      },
      "outputs": [
        {
          "data": {
            "text/plain": [
              "'Teleperformance, United Kingdom, government contracts, NHS, support services, COVID-19 pandemic, 2020, Teleperformance Cloud Campus, Portugal, mobile cloud-enabled workstations, virtual onboarding, training, employee meetings, cloud campus hubs, Philippines, Mexico.'"
            ]
          },
          "execution_count": 29,
          "metadata": {},
          "output_type": "execute_result"
        }
      ],
      "source": [
        "text_summarizer(prompt)\n",
        "# When we print this generated text out, we can see that it's the key words from our piece of text above.\n",
        "\n",
        "# In this lesson, we've seen how we're able to provide messages to our model in order to get it to work\n",
        "\n",
        "# with different tasks."
      ]
    },
    {
      "cell_type": "markdown",
      "id": "e189025b",
      "metadata": {
        "id": "e189025b"
      },
      "source": [
        "## Poetic Chatbot"
      ]
    },
    {
      "cell_type": "code",
      "execution_count": null,
      "id": "8os0Hk5Ig0Ik",
      "metadata": {
        "id": "8os0Hk5Ig0Ik"
      },
      "outputs": [],
      "source": [
        "# In the poetic_chatbot function, the messages parameter in openai.ChatCompletion.create() is a list that defines the conversation history.\n",
        "\n",
        "# Each message in the list has a role (\"system\", \"user\", or \"assistant\") and a content field that contains the actual text.\n",
        "\n",
        "# Message Breakdown:\n",
        "# System Message (\"role\": \"system\")\n",
        "\n",
        "# \"content\": \"You are a poetic chatbot.\"\n",
        "# This sets the AI’s behavior, instructing it to respond poetically.\n",
        "# User Messages (\"role\": \"user\")\n",
        "\n",
        "# These represent the questions asked by the user.\n",
        "# Example: \"content\": \"When was Google founded?\"\n",
        "# Assistant Messages (\"role\": \"assistant\")\n",
        "\n",
        "# These are the AI’s poetic responses.\n",
        "# Example: \"content\": \"In the late '90s, a spark did ignite...\"\n",
        "# Dynamic User Prompt (\"role\": \"user\")\n",
        "\n",
        "# The final message dynamically inserts the prompt parameter, meaning whatever input the user provides will be added to the conversation."
      ]
    },
    {
      "cell_type": "code",
      "execution_count": null,
      "id": "e8c00bf8",
      "metadata": {
        "id": "e8c00bf8"
      },
      "outputs": [],
      "source": [
        "def poetic_chatbot(prompt):\n",
        "    response = client.chat.completions.create(\n",
        "        model = \"gpt-3.5-turbo\",\n",
        "        messages = [\n",
        "            {\n",
        "                \"role\": \"system\",\n",
        "                \"content\": \"You are a poetic chatbot.\"\n",
        "            },\n",
        "            {\n",
        "                \"role\": \"user\",\n",
        "                \"content\": \"When was Google founded?\"\n",
        "            },\n",
        "            {\n",
        "                \"role\": \"assistant\",\n",
        "                \"content\": \"In the late '90s, a spark did ignite, Google emerged, a radiant light. By Larry and Sergey, in '98, it was born, a search engine new, on the web it was sworn.\"\n",
        "            },\n",
        "            {\n",
        "                \"role\": \"user\",\n",
        "                \"content\": \"Which country has the youngest president?\"\n",
        "            },\n",
        "            {\n",
        "                \"role\": \"assistant\",\n",
        "                \"content\": \"Ah, the pursuit of youth in politics, a theme we explore. In Austria, Sebastian Kurz did implore, at the age of 31, his journey did begin, leading with vigor, in a world filled with din.\"\n",
        "            },\n",
        "            {\n",
        "                \"role\": \"user\",\n",
        "                \"content\": prompt\n",
        "            }\n",
        "        ],\n",
        "        temperature = 1,\n",
        "        max_tokens=256\n",
        "    )\n",
        "    return response.choices[0].message.content.strip()"
      ]
    },
    {
      "cell_type": "code",
      "execution_count": null,
      "id": "6041f72f",
      "metadata": {
        "id": "6041f72f"
      },
      "outputs": [],
      "source": [
        "prompt = \"How Teleperformance deals with employees\"\n",
        "ans=poetic_chatbot(prompt)"
      ]
    },
    {
      "cell_type": "code",
      "execution_count": null,
      "id": "88d576b0-711f-4113-917f-a6ebde543967",
      "metadata": {
        "id": "88d576b0-711f-4113-917f-a6ebde543967",
        "outputId": "5704e3df-4457-4687-d704-1dfef8411079"
      },
      "outputs": [
        {
          "data": {
            "text/plain": [
              "'In the realm of customer care, Teleperformance takes great heed, nurturing employees, their success indeed. Training and support they provide with care, fostering growth, ensuring employees fare. In a culture of empathy and respect, they lead, a team united, their greatness does seed.'"
            ]
          },
          "execution_count": 34,
          "metadata": {},
          "output_type": "execute_result"
        }
      ],
      "source": [
        "ans"
      ]
    },
    {
      "cell_type": "markdown",
      "id": "c5afa683",
      "metadata": {
        "id": "c5afa683"
      },
      "source": [
        "## Part 4: Langchain"
      ]
    },
    {
      "cell_type": "code",
      "execution_count": null,
      "id": "V62cp3qzhjUD",
      "metadata": {
        "id": "V62cp3qzhjUD"
      },
      "outputs": [],
      "source": [
        "# the data it's been trained on.\n",
        "\n",
        "# Let's see what happens when we ask a more specific question to this model.\n",
        "\n",
        "# So we can create a new prompt that asks, what is the next course to be uploaded on the 365 data Science\n",
        "\n",
        "# platform?\n",
        "\n",
        "# As.\n",
        "\n",
        "# You can see that the model has given a response, but there's no actual answer in this response.\n",
        "\n",
        "# The model isn't able to tell us which course will be uploaded next onto the 365 data science platform,\n",
        "\n",
        "# because it just doesn't have this data available.\n",
        "\n",
        "# GPT models have been trained on a lot of data, but this data only goes as far as 2021, so they might\n",
        "\n",
        "# not have the most up to date information.\n",
        "\n",
        "# But there is a solution.\n",
        "\n",
        "# Using Lang Chain, we are able to import our own data and have this read by our language models.\n",
        "\n",
        "# Our language models can then reference this when creating a response using the Lang chain framework.\n",
        "\n",
        "# So let's have a look at what Lang chain is and what it can be used for."
      ]
    },
    {
      "cell_type": "code",
      "execution_count": null,
      "id": "ac09b08f",
      "metadata": {
        "colab": {
          "base_uri": "https://localhost:8080/",
          "height": 54
        },
        "id": "ac09b08f",
        "outputId": "388fc14b-ace5-4ff7-dbcf-77e9c690b2d2"
      },
      "outputs": [
        {
          "data": {
            "text/plain": [
              "'In the realm of luxury, the CSAT score did rise, surpassing their target, reaching for the skies. Customer satisfaction high, a sign of great esteem, in the world of luxury, it was but a dream.'"
            ]
          },
          "execution_count": 37,
          "metadata": {},
          "output_type": "execute_result"
        }
      ],
      "source": [
        "prompt = \"What was the CSAT score achieved for the luxury automotive brand, and how did it compare to the target?\"\n",
        "poetic_chatbot(prompt)"
      ]
    },
    {
      "cell_type": "code",
      "execution_count": null,
      "id": "ee189406-263c-44cc-a0ef-384ec6269fc8",
      "metadata": {
        "id": "ee189406-263c-44cc-a0ef-384ec6269fc8"
      },
      "outputs": [],
      "source": [
        "# pip install langchain_community"
      ]
    },
    {
      "cell_type": "code",
      "execution_count": null,
      "id": "KLKn8Iq6hw9b",
      "metadata": {
        "colab": {
          "base_uri": "https://localhost:8080/"
        },
        "id": "KLKn8Iq6hw9b",
        "outputId": "7ea63336-3175-4948-cc3b-abce9c7b1c2b"
      },
      "outputs": [
        {
          "name": "stderr",
          "output_type": "stream",
          "text": [
            "USER_AGENT environment variable not set, consider setting it to identify your requests.\n"
          ]
        }
      ],
      "source": [
        "from langchain.document_loaders import WebBaseLoader\n",
        "from langchain.text_splitter import RecursiveCharacterTextSplitter\n",
        "from langchain.embeddings import OpenAIEmbeddings\n",
        "from langchain.vectorstores import FAISS\n",
        "from langchain.memory import ConversationBufferMemory\n",
        "from langchain.llms import OpenAI\n",
        "from langchain.chains import ConversationalRetrievalChain\n",
        "from langchain.chat_models import ChatOpenAI"
      ]
    },
    {
      "cell_type": "code",
      "execution_count": null,
      "id": "90710771",
      "metadata": {
        "id": "90710771"
      },
      "outputs": [],
      "source": [
        "url = \"https://www.tp.com/industries/automotive/\""
      ]
    },
    {
      "cell_type": "code",
      "execution_count": null,
      "id": "037906af-d00e-477a-b6c4-fbdf0cf8b873",
      "metadata": {
        "id": "037906af-d00e-477a-b6c4-fbdf0cf8b873"
      },
      "outputs": [],
      "source": [
        "# Teleperformnace Resource: https://www.tp.com/industries/automotive/"
      ]
    },
    {
      "cell_type": "code",
      "execution_count": null,
      "id": "722f492b",
      "metadata": {
        "id": "722f492b"
      },
      "outputs": [],
      "source": [
        "loader = WebBaseLoader(url)"
      ]
    },
    {
      "cell_type": "code",
      "execution_count": null,
      "id": "73fc8b53",
      "metadata": {
        "id": "73fc8b53"
      },
      "outputs": [],
      "source": [
        "raw_documents = loader.load()"
      ]
    },
    {
      "cell_type": "code",
      "execution_count": null,
      "id": "96219fdb",
      "metadata": {
        "id": "96219fdb"
      },
      "outputs": [],
      "source": [
        "# raw_documents"
      ]
    },
    {
      "cell_type": "code",
      "execution_count": null,
      "id": "y3LuLjAAiuos",
      "metadata": {
        "id": "y3LuLjAAiuos"
      },
      "outputs": [],
      "source": [
        "# The next step is to take our data and chunk it up into small pieces.\n",
        "\n",
        "# This is necessary in order to make sure we only pass the smallest, most relevant pieces of text to\n",
        "\n",
        "# the language model.\n",
        "\n",
        "# So we'll create our text splitter.\n",
        "\n",
        "# And then use the recursive character text splitter.\n",
        "\n",
        "# We can then create our documents.\n",
        "\n",
        "# So we'll use text splitter dot split documents over our raw documents.\n",
        "\n",
        "# This will take the text from our URL and break it up into small pieces for us."
      ]
    },
    {
      "cell_type": "code",
      "execution_count": null,
      "id": "368905d4",
      "metadata": {
        "id": "368905d4"
      },
      "outputs": [],
      "source": [
        "text_splitter = RecursiveCharacterTextSplitter()\n",
        "documents = text_splitter.split_documents(raw_documents)"
      ]
    },
    {
      "cell_type": "code",
      "execution_count": null,
      "id": "bb11a9aa",
      "metadata": {
        "colab": {
          "base_uri": "https://localhost:8080/"
        },
        "id": "bb11a9aa",
        "outputId": "3b9bfb71-51fe-4807-d3c3-462027b9d279"
      },
      "outputs": [
        {
          "name": "stderr",
          "output_type": "stream",
          "text": [
            "C:\\Users\\HP\\AppData\\Local\\Temp\\ipykernel_14788\\1384645286.py:1: LangChainDeprecationWarning: The class `OpenAIEmbeddings` was deprecated in LangChain 0.0.9 and will be removed in 1.0. An updated version of the class exists in the :class:`~langchain-openai package and should be used instead. To use it run `pip install -U :class:`~langchain-openai` and import as `from :class:`~langchain_openai import OpenAIEmbeddings``.\n",
            "  embeddings = OpenAIEmbeddings(openai_api_key = api_key)\n"
          ]
        }
      ],
      "source": [
        "embeddings = OpenAIEmbeddings(openai_api_key = api_key)"
      ]
    },
    {
      "cell_type": "code",
      "execution_count": null,
      "id": "QckuOexyiQfj",
      "metadata": {
        "id": "QckuOexyiQfj"
      },
      "outputs": [],
      "source": [
        "pip install tiktoken"
      ]
    },
    {
      "cell_type": "code",
      "execution_count": null,
      "id": "_vq6PrxtiXNT",
      "metadata": {
        "id": "_vq6PrxtiXNT"
      },
      "outputs": [],
      "source": [
        "# !pip install faiss-cpu\n",
        "# FAISS (Facebook AI Similarity Search)\n",
        "\n",
        "# or, if you're using GPUs:\n",
        "\n",
        "!pip install faiss-gpu"
      ]
    },
    {
      "cell_type": "code",
      "execution_count": null,
      "id": "822e2065",
      "metadata": {
        "id": "822e2065"
      },
      "outputs": [],
      "source": []
    },
    {
      "cell_type": "code",
      "execution_count": null,
      "id": "3e9398ee-5253-4edc-b377-ff922539921f",
      "metadata": {
        "id": "3e9398ee-5253-4edc-b377-ff922539921f"
      },
      "outputs": [],
      "source": [
        "# pip install --upgrade openai langchain langchain-community faiss-cpu\n",
        "\n"
      ]
    },
    {
      "cell_type": "code",
      "execution_count": null,
      "id": "8298dee9-3311-4bf3-ac99-5b3eb2dbb951",
      "metadata": {
        "id": "8298dee9-3311-4bf3-ac99-5b3eb2dbb951"
      },
      "outputs": [],
      "source": [
        "pip install --upgrade langchain langchain-community openai"
      ]
    },
    {
      "cell_type": "code",
      "execution_count": null,
      "id": "ee2b4078-6159-44f7-a8dd-afaf4f342b94",
      "metadata": {
        "id": "ee2b4078-6159-44f7-a8dd-afaf4f342b94"
      },
      "outputs": [],
      "source": [
        "from openai import RateLimitError, APIConnectionError, APIError, Timeout\n"
      ]
    },
    {
      "cell_type": "code",
      "execution_count": null,
      "id": "c7b20919-2c69-452e-916f-ce5cea49dcf9",
      "metadata": {
        "id": "c7b20919-2c69-452e-916f-ce5cea49dcf9"
      },
      "outputs": [],
      "source": [
        "os.environ[\"OPENAI_API_KEY\"] =api_key"
      ]
    },
    {
      "cell_type": "code",
      "execution_count": null,
      "id": "498418f2-137f-409a-bc36-9f0ddd5ab216",
      "metadata": {
        "id": "498418f2-137f-409a-bc36-9f0ddd5ab216"
      },
      "outputs": [],
      "source": [
        "\n"
      ]
    },
    {
      "cell_type": "code",
      "execution_count": null,
      "id": "38169652-8738-437b-be53-06d548e7a9f5",
      "metadata": {
        "id": "38169652-8738-437b-be53-06d548e7a9f5"
      },
      "outputs": [],
      "source": [
        "# pip install openai==0.27.0\n"
      ]
    },
    {
      "cell_type": "code",
      "execution_count": null,
      "id": "f75245df-2df2-4dec-8086-c63c99fa630b",
      "metadata": {
        "id": "f75245df-2df2-4dec-8086-c63c99fa630b"
      },
      "outputs": [],
      "source": [
        "\n",
        "\n",
        "from langchain_community.vectorstores import FAISS\n",
        "from langchain_openai import OpenAIEmbeddings\n",
        "\n",
        "# Initialize embeddings correctly\n",
        "embeddings = OpenAIEmbeddings()\n",
        "\n",
        "# Assuming 'documents' is a list of LangChain Document objects\n",
        "vectorstore = FAISS.from_documents(documents, embeddings)\n"
      ]
    },
    {
      "cell_type": "code",
      "execution_count": null,
      "id": "9eae330f",
      "metadata": {
        "colab": {
          "base_uri": "https://localhost:8080/"
        },
        "id": "9eae330f",
        "outputId": "fd4fa3d5-6731-4432-d4dd-0b1bfa10b2fd"
      },
      "outputs": [
        {
          "name": "stderr",
          "output_type": "stream",
          "text": [
            "C:\\Users\\HP\\AppData\\Local\\Temp\\ipykernel_14788\\1555739549.py:12: LangChainDeprecationWarning: Please see the migration guide at: https://python.langchain.com/docs/versions/migrating_memory/\n",
            "  memory = ConversationBufferMemory(memory_key = \"chat_history\", return_messages=True)\n"
          ]
        }
      ],
      "source": [
        "# We can now create a memory object which is necessary to track the inputs and outputs, and for the model\n",
        "\n",
        "# to hold a conversation.\n",
        "\n",
        "# So to create our memory we use conversation buffer memory.\n",
        "\n",
        "# We'll give the memory keys as the chat history.\n",
        "\n",
        "# And specify return messages equals true.\n",
        "\n",
        "# We can now initialize the conversational retrieval chain.\n",
        "memory = ConversationBufferMemory(memory_key = \"chat_history\", return_messages=True)\n"
      ]
    },
    {
      "cell_type": "code",
      "execution_count": null,
      "id": "1ab290f6",
      "metadata": {
        "id": "1ab290f6"
      },
      "outputs": [],
      "source": [
        "# We'll use conversational retrieval chain from LM.\n",
        "\n",
        "# We then provide our OpenAI API key.\n",
        "\n",
        "# And specify the temperature of the response.\n",
        "\n",
        "# If you remember the temperature just controls how random the response is.\n",
        "\n",
        "# We then pass our vector store as retriever.\n",
        "\n",
        "# And pass our memory.\n",
        "\n",
        "# And that's it.\n",
        "\n",
        "# We're now ready to ask our model questions based on this text we provided from the 365 Data Science\n",
        "\n",
        "# website.\n",
        "\n",
        "qa = ConversationalRetrievalChain.from_llm(ChatOpenAI(openai_api_key=api_key,\n",
        "                                                  model=\"gpt-3.5-turbo\",\n",
        "                                                  temperature=0),\n",
        "                                           vectorstore.as_retriever(),\n",
        "                                           memory=memory)\n"
      ]
    },
    {
      "cell_type": "markdown",
      "id": "837e59d9-3b3c-48cc-8157-ee9d9510a3ea",
      "metadata": {
        "id": "837e59d9-3b3c-48cc-8157-ee9d9510a3ea"
      },
      "source": [
        "### Query 1"
      ]
    },
    {
      "cell_type": "code",
      "execution_count": null,
      "id": "be092b8c-a938-44a5-b549-82a5ba04c85f",
      "metadata": {
        "id": "be092b8c-a938-44a5-b549-82a5ba04c85f"
      },
      "outputs": [],
      "source": [
        "# Teleperformance Resources: https://www.tp.com/industries/automotive/"
      ]
    },
    {
      "cell_type": "code",
      "execution_count": null,
      "id": "67c6fa21-375f-40e8-8162-563d3db02e8c",
      "metadata": {
        "id": "67c6fa21-375f-40e8-8162-563d3db02e8c"
      },
      "outputs": [],
      "source": [
        "# Fact given on website: 97% CSAT WHICH SIGNIFICANTLY EXCEEDED THEIR TARGET OF 80% FOR A LUXURY AUTOMOTIVE BRAND."
      ]
    },
    {
      "cell_type": "code",
      "execution_count": null,
      "id": "b1520ae1",
      "metadata": {
        "id": "b1520ae1"
      },
      "outputs": [],
      "source": [
        "query1 = \"What was the CSAT score achieved for the luxury automotive brand, and how did it compare to the target?\""
      ]
    },
    {
      "cell_type": "code",
      "execution_count": null,
      "id": "bc7f6820-52d0-4e18-a179-6b317371c16e",
      "metadata": {
        "id": "bc7f6820-52d0-4e18-a179-6b317371c16e",
        "outputId": "bc0f914b-f3eb-477a-fe9b-63807249a07a"
      },
      "outputs": [
        {
          "name": "stderr",
          "output_type": "stream",
          "text": [
            "C:\\Users\\HP\\AppData\\Local\\Temp\\ipykernel_14788\\195677562.py:1: LangChainDeprecationWarning: The method `Chain.__call__` was deprecated in langchain 0.1.0 and will be removed in 1.0. Use :meth:`~invoke` instead.\n",
            "  result = qa({\"question\": query1})\n"
          ]
        }
      ],
      "source": [
        "result = qa({\"question\": query1})\n"
      ]
    },
    {
      "cell_type": "code",
      "execution_count": null,
      "id": "3acf3880-7cac-4ac8-aff8-b53e983e5658",
      "metadata": {
        "id": "3acf3880-7cac-4ac8-aff8-b53e983e5658",
        "outputId": "4a621ebc-3a8c-416c-de43-7203d660b8c0"
      },
      "outputs": [
        {
          "data": {
            "text/plain": [
              "'The CSAT score achieved for the luxury automotive brand significantly exceeded their target of 80%.'"
            ]
          },
          "execution_count": 55,
          "metadata": {},
          "output_type": "execute_result"
        }
      ],
      "source": [
        "result[\"answer\"]"
      ]
    },
    {
      "cell_type": "markdown",
      "id": "060ef513-9ee7-4b93-8b69-5ba2f7a43d1c",
      "metadata": {
        "id": "060ef513-9ee7-4b93-8b69-5ba2f7a43d1c"
      },
      "source": [
        "### Query 2"
      ]
    },
    {
      "cell_type": "code",
      "execution_count": null,
      "id": "083f1763-fa74-4339-821f-6120b9143971",
      "metadata": {
        "id": "083f1763-fa74-4339-821f-6120b9143971"
      },
      "outputs": [],
      "source": [
        "# Teleperformance Resources: https://www.tp.com/industries/automotive/\n",
        "\n",
        "# Fact given on website: \" Together, we're pushing boundaries, pioneering new technologies and redefining what's possible. Their innovation and support are critical to helping us deliver the world-class vehicles our customers have come to expect. \"\n",
        "# Vice President of Global Purchasing and Supply for a leading US auto manufacture"
      ]
    },
    {
      "cell_type": "code",
      "execution_count": null,
      "id": "88276995-c9db-4fb4-8f4a-c3b4607bb060",
      "metadata": {
        "id": "88276995-c9db-4fb4-8f4a-c3b4607bb060"
      },
      "outputs": [],
      "source": [
        "query2= \"Together, we're pushing boundaries, pioneering new technologies and redefining what's possible. Their innovation and support are critical to helping us deliver the world-class vehicles our customers have come to expect., who said this?\""
      ]
    },
    {
      "cell_type": "code",
      "execution_count": null,
      "id": "29986146",
      "metadata": {
        "id": "29986146"
      },
      "outputs": [],
      "source": [
        "result = qa({\"question\": query2})\n"
      ]
    },
    {
      "cell_type": "code",
      "execution_count": null,
      "id": "d181fc45",
      "metadata": {
        "colab": {
          "base_uri": "https://localhost:8080/",
          "height": 54
        },
        "id": "d181fc45",
        "outputId": "37226add-e114-4ffe-8533-cd39d426aec6"
      },
      "outputs": [
        {
          "data": {
            "text/plain": [
              "'The quote \"Together, we\\'re pushing boundaries, pioneering new technologies and redefining what\\'s possible. Their innovation and support are critical to helping us deliver the world-class vehicles our customers have come to expect\" was said by the Vice President of Global Purchasing and Supply for a leading US auto manufacturer.'"
            ]
          },
          "execution_count": 58,
          "metadata": {},
          "output_type": "execute_result"
        }
      ],
      "source": [
        "result[\"answer\"]"
      ]
    },
    {
      "cell_type": "code",
      "execution_count": null,
      "id": "7d911ace",
      "metadata": {
        "id": "7d911ace"
      },
      "outputs": [],
      "source": []
    }
  ],
  "metadata": {
    "colab": {
      "provenance": []
    },
    "kernelspec": {
      "display_name": "longchain_env",
      "language": "python",
      "name": "longchain_env"
    },
    "language_info": {
      "codemirror_mode": {
        "name": "ipython",
        "version": 3
      },
      "file_extension": ".py",
      "mimetype": "text/x-python",
      "name": "python",
      "nbconvert_exporter": "python",
      "pygments_lexer": "ipython3",
      "version": "3.10.10"
    }
  },
  "nbformat": 4,
  "nbformat_minor": 5
}