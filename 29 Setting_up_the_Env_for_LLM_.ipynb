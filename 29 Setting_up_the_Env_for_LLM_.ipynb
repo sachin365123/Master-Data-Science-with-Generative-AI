{
  "cells": [
    {
      "cell_type": "markdown",
      "id": "0580582b-675d-43bb-abc0-f9052f07903a",
      "metadata": {
        "id": "0580582b-675d-43bb-abc0-f9052f07903a"
      },
      "source": [
        "### Method 1: To access OPEN AI Key from code itself"
      ]
    },
    {
      "cell_type": "code",
      "execution_count": null,
      "id": "ce1015d2-501a-4810-a9aa-dcfd56453014",
      "metadata": {
        "id": "ce1015d2-501a-4810-a9aa-dcfd56453014",
        "outputId": "8ed4e8ea-b958-4f35-a896-72976545bb65"
      },
      "outputs": [
        {
          "name": "stdout",
          "output_type": "stream",
          "text": [
            "Collecting config\n",
            "  Using cached config-0.5.1-py2.py3-none-any.whl.metadata (1.4 kB)\n",
            "Using cached config-0.5.1-py2.py3-none-any.whl (20 kB)\n",
            "Installing collected packages: config\n",
            "Successfully installed config-0.5.1\n",
            "Note: you may need to restart the kernel to use updated packages.\n"
          ]
        }
      ],
      "source": [
        "pip install config"
      ]
    },
    {
      "cell_type": "code",
      "execution_count": null,
      "id": "677a8dca-994f-477d-a931-b8d836d7950e",
      "metadata": {
        "id": "677a8dca-994f-477d-a931-b8d836d7950e"
      },
      "outputs": [],
      "source": [
        "import config"
      ]
    },
    {
      "cell_type": "code",
      "execution_count": null,
      "id": "06cf89e1-1bb2-4c95-8538-0bdfcfe4a5f9",
      "metadata": {
        "id": "06cf89e1-1bb2-4c95-8538-0bdfcfe4a5f9"
      },
      "outputs": [],
      "source": [
        "import os"
      ]
    },
    {
      "cell_type": "code",
      "execution_count": null,
      "id": "4bf4a3d8-207c-4146-94ae-e6c1061bca57",
      "metadata": {
        "id": "4bf4a3d8-207c-4146-94ae-e6c1061bca57"
      },
      "outputs": [],
      "source": [
        "import openai"
      ]
    },
    {
      "cell_type": "code",
      "execution_count": null,
      "id": "7af9c812-4f63-433c-a91a-571bf0de2f00",
      "metadata": {
        "id": "7af9c812-4f63-433c-a91a-571bf0de2f00"
      },
      "outputs": [],
      "source": [
        "# api_key=config.api_key"
      ]
    },
    {
      "cell_type": "code",
      "execution_count": null,
      "id": "9f59c5e7-6f0f-47ea-8d73-71e4150615ca",
      "metadata": {
        "id": "9f59c5e7-6f0f-47ea-8d73-71e4150615ca"
      },
      "outputs": [],
      "source": [
        "openai.api_key=api_key"
      ]
    },
    {
      "cell_type": "code",
      "execution_count": null,
      "id": "82042a98-af32-4669-97a2-bbe5787fc6f0",
      "metadata": {
        "id": "82042a98-af32-4669-97a2-bbe5787fc6f0",
        "outputId": "c27b634b-4361-4676-c7c5-d2d4ef14f32f"
      },
      "outputs": [
        {
          "data": {
            "text/plain": [
              "ItemsView(environ({'ALLUSERSPROFILE': 'C:\\\\ProgramData', 'APPDATA': 'C:\\\\Users\\\\HP\\\\AppData\\\\Roaming', 'COMMONPROGRAMFILES': 'C:\\\\Program Files\\\\Common Files', 'COMMONPROGRAMFILES(X86)': 'C:\\\\Program Files (x86)\\\\Common Files', 'COMMONPROGRAMW6432': 'C:\\\\Program Files\\\\Common Files', 'COMPUTERNAME': 'DESKTOP-ULTH3MG', 'COMSPEC': 'C:\\\\WINDOWS\\\\system32\\\\cmd.exe', 'CONDA_DEFAULT_ENV': 'base', 'CONDA_EXE': 'C:\\\\Users\\\\HP\\\\anaconda3\\\\Scripts\\\\conda.exe', 'CONDA_PREFIX': 'C:\\\\Users\\\\HP\\\\anaconda3', 'CONDA_PROMPT_MODIFIER': '(base) ', 'CONDA_PYTHON_EXE': 'C:\\\\Users\\\\HP\\\\anaconda3\\\\python.exe', 'CONDA_ROOT': 'C:\\\\Users\\\\HP\\\\anaconda3', 'CONDA_SHLVL': '1', 'DRIVERDATA': 'C:\\\\Windows\\\\System32\\\\Drivers\\\\DriverData', 'EFC_8668': '1', 'FPS_BROWSER_APP_PROFILE_STRING': 'Internet Explorer', 'FPS_BROWSER_USER_PROFILE_STRING': 'Default', 'HOMEDRIVE': 'C:', 'HOMEPATH': '\\\\Users\\\\HP', 'IPY_INTERRUPT_EVENT': '4220', 'JPY_INTERRUPT_EVENT': '4220', 'JPY_PARENT_PID': '4608', 'JPY_SESSION_NAME': 'C:\\\\Users\\\\HP\\\\Untitled.ipynb', 'LOCALAPPDATA': 'C:\\\\Users\\\\HP\\\\AppData\\\\Local', 'LOGONSERVER': '\\\\\\\\DESKTOP-ULTH3MG', 'NUMBER_OF_PROCESSORS': '8', 'ONEDRIVE': 'C:\\\\Users\\\\HP\\\\OneDrive', 'OS': 'Windows_NT', 'PATH': 'C:\\\\Users\\\\HP\\\\anaconda3;C:\\\\Users\\\\HP\\\\anaconda3\\\\Library\\\\mingw-w64\\\\bin;C:\\\\Users\\\\HP\\\\anaconda3\\\\Library\\\\usr\\\\bin;C:\\\\Users\\\\HP\\\\anaconda3\\\\Library\\\\bin;C:\\\\Users\\\\HP\\\\anaconda3\\\\Scripts;C:\\\\Users\\\\HP\\\\anaconda3\\\\bin;C:\\\\Users\\\\HP\\\\anaconda3\\\\condabin;C:\\\\Users\\\\HP\\\\anaconda3;C:\\\\Users\\\\HP\\\\anaconda3\\\\Library\\\\mingw-w64\\\\bin;C:\\\\Users\\\\HP\\\\anaconda3\\\\Library\\\\usr\\\\bin;C:\\\\Users\\\\HP\\\\anaconda3\\\\Library\\\\bin;C:\\\\Users\\\\HP\\\\anaconda3\\\\Scripts;C:\\\\Program Files (x86)\\\\Common Files\\\\Oracle\\\\Java\\\\java8path;C:\\\\Program Files (x86)\\\\Common Files\\\\Oracle\\\\Java\\\\javapath;C:\\\\WINDOWS\\\\system32;C:\\\\WINDOWS;C:\\\\WINDOWS\\\\System32\\\\Wbem;C:\\\\WINDOWS\\\\System32\\\\WindowsPowerShell\\\\v1.0;C:\\\\WINDOWS\\\\System32\\\\OpenSSH;C:\\\\Program Files (x86)\\\\Microsoft SQL Server\\\\160\\\\Tools\\\\Binn;C:\\\\Program Files\\\\Microsoft SQL Server\\\\160\\\\Tools\\\\Binn;C:\\\\Program Files\\\\Microsoft SQL Server\\\\Client SDK\\\\ODBC\\\\170\\\\Tools\\\\Binn;C:\\\\Program Files\\\\Microsoft SQL Server\\\\160\\\\DTS\\\\Binn;C:\\\\Program Files (x86)\\\\Microsoft SQL Server\\\\160\\\\DTS\\\\Binn;C:\\\\Program Files (x86)\\\\Aperio\\\\Common;C:\\\\spark\\\\spark-3.3.0-bin-hadoop3\\\\bin;C:\\\\Users\\\\HP\\\\AppData\\\\Local\\\\Microsoft\\\\WindowsApps;.;C:\\\\Users\\\\HP\\\\AppData\\\\Local\\\\Programs\\\\Ollama', 'PATHEXT': '.COM;.EXE;.BAT;.CMD;.VBS;.VBE;.JS;.JSE;.WSF;.WSH;.MSC', 'PROCESSOR_ARCHITECTURE': 'AMD64', 'PROCESSOR_IDENTIFIER': 'Intel64 Family 6 Model 140 Stepping 1, GenuineIntel', 'PROCESSOR_LEVEL': '6', 'PROCESSOR_REVISION': '8c01', 'PROGRAMDATA': 'C:\\\\ProgramData', 'PROGRAMFILES': 'C:\\\\Program Files', 'PROGRAMFILES(X86)': 'C:\\\\Program Files (x86)', 'PROGRAMW6432': 'C:\\\\Program Files', 'PROMPT': '(base) $P$G', 'PSMODULEPATH': 'C:\\\\Program Files\\\\WindowsPowerShell\\\\Modules;C:\\\\WINDOWS\\\\system32\\\\WindowsPowerShell\\\\v1.0\\\\Modules;C:\\\\Program Files (x86)\\\\Microsoft SQL Server\\\\160\\\\Tools\\\\PowerShell\\\\Modules\\\\', 'PUBLIC': 'C:\\\\Users\\\\Public', 'PYDEVD_USE_FRAME_EVAL': 'NO', 'SESSIONNAME': 'Console', 'SPARK_HOME': 'C:\\\\spark\\\\spark-3.3.0-bin-hadoop3', 'SSL_CERT_FILE': 'C:\\\\Users\\\\HP\\\\anaconda3\\\\Library\\\\ssl\\\\cacert.pem', 'SYSTEMDRIVE': 'C:', 'SYSTEMROOT': 'C:\\\\WINDOWS', 'TEMP': 'C:\\\\Users\\\\HP\\\\AppData\\\\Local\\\\Temp', 'TMP': 'C:\\\\Users\\\\HP\\\\AppData\\\\Local\\\\Temp', 'USERDOMAIN': 'DESKTOP-ULTH3MG', 'USERDOMAIN_ROAMINGPROFILE': 'DESKTOP-ULTH3MG', 'USERNAME': 'HP', 'USERPROFILE': 'C:\\\\Users\\\\HP', 'WINDIR': 'C:\\\\WINDOWS', 'ZES_ENABLE_SYSMAN': '1', '__CONDA_OPENSLL_CERT_FILE_SET': '\"1\"', 'TERM': 'xterm-color', 'CLICOLOR': '1', 'FORCE_COLOR': '1', 'CLICOLOR_FORCE': '1', 'PAGER': 'cat', 'GIT_PAGER': 'cat', 'MPLBACKEND': 'module://matplotlib_inline.backend_inline'}))"
            ]
          },
          "execution_count": 9,
          "metadata": {},
          "output_type": "execute_result"
        }
      ],
      "source": [
        "os.environ.items()"
      ]
    },
    {
      "cell_type": "code",
      "execution_count": null,
      "id": "4f8acd31-2e3e-41f1-ae98-e6c55591f0b8",
      "metadata": {
        "id": "4f8acd31-2e3e-41f1-ae98-e6c55591f0b8",
        "outputId": "3fa41d41-a58c-45c5-9277-dcbbd4ad2282"
      },
      "outputs": [
        {
          "name": "stdout",
          "output_type": "stream",
          "text": [
            "key:value\n",
            "key:value\n",
            "key:value\n",
            "key:value\n",
            "key:value\n",
            "key:value\n",
            "key:value\n",
            "key:value\n",
            "key:value\n",
            "key:value\n",
            "key:value\n",
            "key:value\n",
            "key:value\n",
            "key:value\n",
            "key:value\n",
            "key:value\n",
            "key:value\n",
            "key:value\n",
            "key:value\n",
            "key:value\n",
            "key:value\n",
            "key:value\n",
            "key:value\n",
            "key:value\n",
            "key:value\n",
            "key:value\n",
            "key:value\n",
            "key:value\n",
            "key:value\n",
            "key:value\n",
            "key:value\n",
            "key:value\n",
            "key:value\n",
            "key:value\n",
            "key:value\n",
            "key:value\n",
            "key:value\n",
            "key:value\n",
            "key:value\n",
            "key:value\n",
            "key:value\n",
            "key:value\n",
            "key:value\n",
            "key:value\n",
            "key:value\n",
            "key:value\n",
            "key:value\n",
            "key:value\n",
            "key:value\n",
            "key:value\n",
            "key:value\n",
            "key:value\n",
            "key:value\n",
            "key:value\n",
            "key:value\n",
            "key:value\n",
            "key:value\n",
            "key:value\n",
            "key:value\n",
            "key:value\n",
            "key:value\n",
            "key:value\n",
            "key:value\n",
            "key:value\n"
          ]
        }
      ],
      "source": [
        "for key, value in os.environ.items():\n",
        "    print(f\"key:value\")"
      ]
    },
    {
      "cell_type": "code",
      "execution_count": null,
      "id": "61c38536-a7c7-4daf-8f90-10d36c883bee",
      "metadata": {
        "id": "61c38536-a7c7-4daf-8f90-10d36c883bee"
      },
      "outputs": [],
      "source": [
        "os.environ['OPENAI_API_KEY']='your secret key here'"
      ]
    },
    {
      "cell_type": "code",
      "execution_count": null,
      "id": "53f744c9-18bb-4f68-9695-13635da7db1e",
      "metadata": {
        "id": "53f744c9-18bb-4f68-9695-13635da7db1e",
        "outputId": "3ac9b31b-0672-4021-9e15-af6dfe6692bb"
      },
      "outputs": [
        {
          "name": "stdout",
          "output_type": "stream",
          "text": [
            "OPENAI_API_KEY:value\n"
          ]
        }
      ],
      "source": [
        "for key, value in os.environ.items():\n",
        "    if key=='OPENAI_API_KEY':\n",
        "        print(f\"{key}:value\")"
      ]
    },
    {
      "cell_type": "markdown",
      "id": "6e856298-b6ec-48e8-85f6-87165dc22c78",
      "metadata": {
        "id": "6e856298-b6ec-48e8-85f6-87165dc22c78"
      },
      "source": [
        "### Method 2: To access OPEN AI Key from Text file"
      ]
    },
    {
      "cell_type": "code",
      "execution_count": null,
      "id": "01134563-9083-48bc-87c5-77cc6d122a78",
      "metadata": {
        "id": "01134563-9083-48bc-87c5-77cc6d122a78",
        "outputId": "dab36c0c-6ebe-40f5-ac75-30b6ca02bed1"
      },
      "outputs": [
        {
          "name": "stdout",
          "output_type": "stream",
          "text": [
            "Requirement already satisfied: python-dotenv in c:\\users\\hp\\anaconda3\\envs\\longchain_envllm\\lib\\site-packages (1.0.1)\n",
            "Note: you may need to restart the kernel to use updated packages.\n"
          ]
        }
      ],
      "source": [
        "pip install python-dotenv"
      ]
    },
    {
      "cell_type": "code",
      "execution_count": null,
      "id": "37cdf739-8310-4225-bf20-76e1cef0604e",
      "metadata": {
        "id": "37cdf739-8310-4225-bf20-76e1cef0604e"
      },
      "outputs": [],
      "source": [
        "%load_ext dotenv\n",
        "%dotenv"
      ]
    },
    {
      "cell_type": "code",
      "execution_count": null,
      "id": "5a3e9582-27db-4a98-af60-a3e87b89769b",
      "metadata": {
        "id": "5a3e9582-27db-4a98-af60-a3e87b89769b"
      },
      "outputs": [],
      "source": []
    }
  ],
  "metadata": {
    "kernelspec": {
      "display_name": "longchain_envllm",
      "language": "python",
      "name": "longchain_envllm"
    },
    "language_info": {
      "codemirror_mode": {
        "name": "ipython",
        "version": 3
      },
      "file_extension": ".py",
      "mimetype": "text/x-python",
      "name": "python",
      "nbconvert_exporter": "python",
      "pygments_lexer": "ipython3",
      "version": "3.10.10"
    },
    "colab": {
      "provenance": []
    }
  },
  "nbformat": 4,
  "nbformat_minor": 5
}