{
 "cells": [
  {
   "cell_type": "code",
   "execution_count": 1,
   "id": "6904bd1b-65fb-4413-8bcc-8b62d5d19e68",
   "metadata": {},
   "outputs": [],
   "source": [
    "import os"
   ]
  },
  {
   "cell_type": "code",
   "execution_count": 2,
   "id": "705888d8-8847-4a50-911c-86b25826ac7a",
   "metadata": {},
   "outputs": [],
   "source": [
    "import openai"
   ]
  },
  {
   "cell_type": "code",
   "execution_count": null,
   "id": "c038d075-ec9c-4953-af7a-53654211a319",
   "metadata": {},
   "outputs": [],
   "source": []
  },
  {
   "cell_type": "code",
   "execution_count": 8,
   "id": "ef36dfac-5692-4e92-b80b-361665cacf2d",
   "metadata": {},
   "outputs": [
    {
     "name": "stdout",
     "output_type": "stream",
     "text": [
      "Requirement already satisfied: python-dotenv in c:\\users\\hp\\anaconda3\\envs\\longchain_envllm\\lib\\site-packages (1.0.1)\n",
      "Note: you may need to restart the kernel to use updated packages.\n"
     ]
    }
   ],
   "source": [
    "pip install python-dotenv\n"
   ]
  },
  {
   "cell_type": "code",
   "execution_count": 6,
   "id": "29043212-2dcf-42db-9882-b321f4f61428",
   "metadata": {},
   "outputs": [],
   "source": [
    "# pip install load_dotenv"
   ]
  },
  {
   "cell_type": "code",
   "execution_count": null,
   "id": "07dedb5f-9e3e-4b71-8a93-30d20eb70696",
   "metadata": {},
   "outputs": [],
   "source": []
  },
  {
   "cell_type": "code",
   "execution_count": 7,
   "id": "52d90841-4a5e-45a9-a852-5eca60b0c5cf",
   "metadata": {},
   "outputs": [
    {
     "ename": "NameError",
     "evalue": "name 'load_dotenv' is not defined",
     "output_type": "error",
     "traceback": [
      "\u001b[1;31m---------------------------------------------------------------------------\u001b[0m",
      "\u001b[1;31mNameError\u001b[0m                                 Traceback (most recent call last)",
      "Cell \u001b[1;32mIn[7], line 2\u001b[0m\n\u001b[0;32m      1\u001b[0m \u001b[38;5;66;03m# Load environment variables from .env file\u001b[39;00m\n\u001b[1;32m----> 2\u001b[0m \u001b[43mload_dotenv\u001b[49m()\n",
      "\u001b[1;31mNameError\u001b[0m: name 'load_dotenv' is not defined"
     ]
    }
   ],
   "source": [
    "# Load environment variables from .env file\n",
    "load_dotenv()"
   ]
  },
  {
   "cell_type": "code",
   "execution_count": null,
   "id": "1809afc2-8199-46c4-984c-3630a647f308",
   "metadata": {},
   "outputs": [],
   "source": [
    "from dotenv import load_dotenv, dotenv_values"
   ]
  },
  {
   "cell_type": "code",
   "execution_count": null,
   "id": "bf214d7c-34ea-4f80-ad69-9b4f0d37e9c9",
   "metadata": {},
   "outputs": [],
   "source": [
    "# Get API key from .env file\n",
    "openai.api_key = os.getenv(\"OPENAI_API_KEY\")"
   ]
  },
  {
   "cell_type": "code",
   "execution_count": null,
   "id": "c035ffc8-d333-473a-99c0-cfca11808c3c",
   "metadata": {},
   "outputs": [],
   "source": [
    "\n",
    "# Debugging step: Print all environment variables (check if OPENAI_API_KEY is present)\n",
    "print(\"Environment Variables:\", os.environ)\n",
    "\n"
   ]
  },
  {
   "cell_type": "code",
   "execution_count": null,
   "id": "eda6b992-a360-49fc-b81d-61377d0b5489",
   "metadata": {},
   "outputs": [],
   "source": [
    "print(\"Environment Variables:\", os.getenv(\"OPENAI_API_KEY\"))"
   ]
  },
  {
   "cell_type": "code",
   "execution_count": null,
   "id": "def4826f-7a19-48d1-9e4a-8ca3d3d99718",
   "metadata": {},
   "outputs": [],
   "source": [
    "print(openai.api_key)  # Should print the key if loaded correctly"
   ]
  },
  {
   "cell_type": "code",
   "execution_count": null,
   "id": "07f935e2-bf0a-43a8-9c5a-1c70c811b98e",
   "metadata": {},
   "outputs": [],
   "source": [
    "print(os.getenv('OPENAI_API_KEY'))"
   ]
  },
  {
   "cell_type": "code",
   "execution_count": null,
   "id": "39ce19bd-4372-4b2c-b79b-e4b08130996c",
   "metadata": {},
   "outputs": [],
   "source": [
    "# Debugging: Check if API key is loaded (Should not print the key in production)\n",
    "if openai.api_key:\n",
    "    print(\"API key loaded successfully!\")\n",
    "else:\n",
    "    print(\"Error: API key not found. Check your .env file.\")"
   ]
  },
  {
   "cell_type": "code",
   "execution_count": null,
   "id": "f5a74f3a-dcfc-438f-83e1-c3d0684c17f9",
   "metadata": {},
   "outputs": [],
   "source": [
    "print(openai.api_key)"
   ]
  },
  {
   "cell_type": "code",
   "execution_count": null,
   "id": "2bce8dff-df51-42a5-aa8e-067a6e638ffe",
   "metadata": {},
   "outputs": [],
   "source": [
    "client = openai.OpenAI()"
   ]
  },
  {
   "cell_type": "code",
   "execution_count": null,
   "id": "214d80c6-a92d-4453-ad2b-e947e826e0c4",
   "metadata": {},
   "outputs": [],
   "source": []
  },
  {
   "cell_type": "code",
   "execution_count": null,
   "id": "b4770cd0-d762-45bd-bec1-f8c97b1288d3",
   "metadata": {},
   "outputs": [],
   "source": []
  }
 ],
 "metadata": {
  "kernelspec": {
   "display_name": "longchain_envllm",
   "language": "python",
   "name": "longchain_envllm"
  },
  "language_info": {
   "codemirror_mode": {
    "name": "ipython",
    "version": 3
   },
   "file_extension": ".py",
   "mimetype": "text/x-python",
   "name": "python",
   "nbconvert_exporter": "python",
   "pygments_lexer": "ipython3",
   "version": "3.10.10"
  }
 },
 "nbformat": 4,
 "nbformat_minor": 5
}
