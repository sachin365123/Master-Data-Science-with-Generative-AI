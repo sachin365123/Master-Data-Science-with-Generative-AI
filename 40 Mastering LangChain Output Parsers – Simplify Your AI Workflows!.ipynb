{
 "cells": [
  {
   "cell_type": "markdown",
   "id": "121eeed4",
   "metadata": {},
   "source": [
    "# String Output Parser"
   ]
  },
  {
   "cell_type": "markdown",
   "id": "f77f3cd7-3959-4022-96a5-7dad64ea2127",
   "metadata": {},
   "source": [
    "##### Run the line of code below to check the version of langchain in the current environment.\n",
    "##### Substitute \"langchain\" with any other package name to check their version."
   ]
  },
  {
   "cell_type": "code",
   "execution_count": 3,
   "id": "5b27dcee-08d4-46c6-8832-a35b7f377a70",
   "metadata": {},
   "outputs": [
    {
     "name": "stdout",
     "output_type": "stream",
     "text": [
      "Name: langchain\n",
      "Version: 0.3.19\n",
      "Summary: Building applications with LLMs through composability\n",
      "Home-page: \n",
      "Author: \n",
      "Author-email: \n",
      "License: MIT\n",
      "Location: c:\\users\\hp\\anaconda3\\envs\\longchain_env\\lib\\site-packages\n",
      "Requires: aiohttp, async-timeout, langchain-core, langchain-text-splitters, langsmith, numpy, pydantic, PyYAML, requests, SQLAlchemy, tenacity\n",
      "Required-by: langchain-community\n",
      "Note: you may need to restart the kernel to use updated packages.\n"
     ]
    }
   ],
   "source": [
    "pip show langchain"
   ]
  },
  {
   "cell_type": "markdown",
   "id": "be9771cd-a1ed-4bef-a607-49b7111465fc",
   "metadata": {},
   "source": [
    "Introduction:\n",
    "Welcome to this tutorial on LangChain Output Parsers! If you've ever worked with large language models (LLMs), you know that handling different output formats—like strings, lists, dates, CSVs, and structured data—can be a challenge. In this video, we'll dive deep into LangChain’s Output Parsers, starting with the String Output Parser (StrOutputParser) and exploring how it helps format AI-generated responses effectively.\n",
    "\n",
    "We'll cover:\n",
    "###### ✅ Understanding Chat Model Outputs\n",
    "###### ✅ Converting responses into structured formats\n",
    "###### ✅ Using output parsers to simplify AI integrations\n",
    "\n",
    "Stay tuned as we break down these concepts with hands-on coding and practical demonstrations. Let's get started! 🚀"
   ]
  },
  {
   "cell_type": "markdown",
   "id": "a59af49a-2091-471c-b5b3-fa072b20aa2c",
   "metadata": {},
   "source": [
    "##### Chat model classes such as chat open AI output.\n",
    "\n",
    "##### Chat message objects by implementation.\n",
    "\n",
    "##### Sometimes, however, we need to output in a different data type a string, a list, a date, time object,\n",
    "\n",
    "##### a CSV, or another convenient type.\n",
    "\n",
    "##### Well, enter the realm of output parsers.\n",
    "\n",
    "##### We'll start with the most straightforward one the string output parser, which, abiding by its name,\n",
    "\n",
    "##### converts an output to a string object."
   ]
  },
  {
   "cell_type": "markdown",
   "id": "12d7c3d2-0d4b-48de-8755-9dabab05e4f9",
   "metadata": {},
   "source": [
    "LangChain is a comprehensive framework designed to facilitate the development, productionization, and deployment of applications powered by large language models (LLMs). A key component of LangChain's utility belt is its array of output parsers, among which the StrOutputParser stands out for its simplicity and effectiveness.\n",
    "\n",
    "StrOutputParser in Focus\n",
    "The StrOutputParser is a straightforward yet powerful tool within the LangChain ecosystem. Its primary function is to convert the output of a language model, whether from an LLM or a ChatModel, into a string format. This conversion is crucial for applications that require a uniform output format for further processing or display to end-users."
   ]
  },
  {
   "cell_type": "code",
   "execution_count": 4,
   "id": "ad0770b0",
   "metadata": {},
   "outputs": [],
   "source": [
    "%load_ext dotenv\n",
    "%dotenv"
   ]
  },
  {
   "cell_type": "code",
   "execution_count": 5,
   "id": "616565cc",
   "metadata": {},
   "outputs": [],
   "source": [
    "from langchain_openai.chat_models import ChatOpenAI\n",
    "from langchain_core.messages import HumanMessage\n",
    "from langchain_core.output_parsers import StrOutputParser"
   ]
  },
  {
   "cell_type": "code",
   "execution_count": 6,
   "id": "7c9f2600",
   "metadata": {},
   "outputs": [
    {
     "name": "stderr",
     "output_type": "stream",
     "text": [
      "C:\\Users\\HP\\anaconda3\\envs\\longchain_env\\lib\\site-packages\\IPython\\core\\interactiveshell.py:3519: UserWarning: Parameters {'seed'} should be specified explicitly. Instead they were passed in as part of `model_kwargs` parameter.\n",
      "  if await self.run_code(code, result, async_=asy):\n"
     ]
    }
   ],
   "source": [
    "chat = ChatOpenAI(model_name = 'gpt-4', \n",
    "                  model_kwargs = {'seed':365},\n",
    "                  temperature = 0,\n",
    "                  max_tokens = 100)"
   ]
  },
  {
   "cell_type": "code",
   "execution_count": 7,
   "id": "66ae07c5",
   "metadata": {},
   "outputs": [],
   "source": [
    "message_h = HumanMessage(content = \"Can you give me a best IT company role I probably didn't know about?\")"
   ]
  },
  {
   "cell_type": "code",
   "execution_count": 8,
   "id": "5519f1f4",
   "metadata": {},
   "outputs": [],
   "source": [
    "response = chat.invoke([message_h])"
   ]
  },
  {
   "cell_type": "code",
   "execution_count": 9,
   "id": "dc6e21ed",
   "metadata": {},
   "outputs": [
    {
     "data": {
      "text/plain": [
       "AIMessage(content='Sure, one such role is \"Ethical Hacker\" or \"White Hat Hacker\". This role involves professionals who use their hacking skills and knowledge of vulnerabilities and weaknesses in a system to help businesses and organizations improve their security measures. They identify potential threats and vulnerabilities to prevent illegal hacking activities. They are essentially the good guys in the cyber security world, hired to find and fix potential vulnerabilities before the bad guys can exploit them.', additional_kwargs={'refusal': None}, response_metadata={'token_usage': {'completion_tokens': 85, 'prompt_tokens': 23, 'total_tokens': 108, 'completion_tokens_details': {'accepted_prediction_tokens': 0, 'audio_tokens': 0, 'reasoning_tokens': 0, 'rejected_prediction_tokens': 0}, 'prompt_tokens_details': {'audio_tokens': 0, 'cached_tokens': 0}}, 'model_name': 'gpt-4-0613', 'system_fingerprint': None, 'finish_reason': 'stop', 'logprobs': None}, id='run-a5346f1e-03c8-4a52-9afa-b567e176f26b-0', usage_metadata={'input_tokens': 23, 'output_tokens': 85, 'total_tokens': 108, 'input_token_details': {'audio': 0, 'cache_read': 0}, 'output_token_details': {'audio': 0, 'reasoning': 0}})"
      ]
     },
     "execution_count": 9,
     "metadata": {},
     "output_type": "execute_result"
    }
   ],
   "source": [
    "response"
   ]
  },
  {
   "cell_type": "code",
   "execution_count": 10,
   "id": "b2b26762",
   "metadata": {},
   "outputs": [],
   "source": [
    "str_output_parser = StrOutputParser()"
   ]
  },
  {
   "cell_type": "code",
   "execution_count": 11,
   "id": "80acf877",
   "metadata": {},
   "outputs": [
    {
     "data": {
      "text/plain": [
       "'Sure, one such role is \"Ethical Hacker\" or \"White Hat Hacker\". This role involves professionals who use their hacking skills and knowledge of vulnerabilities and weaknesses in a system to help businesses and organizations improve their security measures. They identify potential threats and vulnerabilities to prevent illegal hacking activities. They are essentially the good guys in the cyber security world, hired to find and fix potential vulnerabilities before the bad guys can exploit them.'"
      ]
     },
     "execution_count": 11,
     "metadata": {},
     "output_type": "execute_result"
    }
   ],
   "source": [
    "response_parsed = str_output_parser.invoke(response)\n",
    "response_parsed"
   ]
  },
  {
   "cell_type": "markdown",
   "id": "a933be00-b12a-459e-bfd9-17bdce661133",
   "metadata": {},
   "source": [
    "# Comma-Separated List Output Parser"
   ]
  },
  {
   "cell_type": "code",
   "execution_count": 13,
   "id": "656f7856",
   "metadata": {},
   "outputs": [],
   "source": [
    "from langchain_core.output_parsers import CommaSeparatedListOutputParser"
   ]
  },
  {
   "cell_type": "code",
   "execution_count": 14,
   "id": "040544de",
   "metadata": {},
   "outputs": [],
   "source": [
    "message_h = HumanMessage(content = f''' I've recently planned to switch to an IT company. Could you suggest some job roles? \n",
    "\n",
    "{CommaSeparatedListOutputParser().get_format_instructions()}\n",
    "''')"
   ]
  },
  {
   "cell_type": "code",
   "execution_count": 15,
   "id": "e3dfe940-1fa3-4092-81f1-f0ff41b4ac18",
   "metadata": {},
   "outputs": [
    {
     "name": "stdout",
     "output_type": "stream",
     "text": [
      " I've recently planned to switch to an IT company. Could you suggest some job roles? \n",
      "\n",
      "Your response should be a list of comma separated values, eg: `foo, bar, baz` or `foo,bar,baz`\n",
      "\n"
     ]
    }
   ],
   "source": [
    "print(message_h.content)"
   ]
  },
  {
   "cell_type": "code",
   "execution_count": 16,
   "id": "57608d67-dfc3-42fd-9323-2f7d41e5a1e7",
   "metadata": {},
   "outputs": [
    {
     "name": "stdout",
     "output_type": "stream",
     "text": [
      "Software Developer, Network Administrator, IT Project Manager, Data Analyst, IT Consultant, System Analyst, IT Support Specialist, IT Director, Web Developer, Database Administrator, IT Security Specialist, IT Manager, IT Technician, IT Coordinator, IT Analyst, IT Sales Professional, IT Trainer, IT Auditor, Cloud Architect, IT Customer Service, IT Quality Assurance, IT Business Analyst, IT Operations Manager, IT Product Manager, IT Service Manager, IT Strategy Manager, IT Technical Writer, IT User Experience Designer, IT Vendor\n"
     ]
    }
   ],
   "source": [
    "response = chat.invoke([message_h])\n",
    "print(response.content)"
   ]
  },
  {
   "cell_type": "code",
   "execution_count": 17,
   "id": "6d0ce3f1-51c9-4d39-a7f0-5678ab518cf2",
   "metadata": {},
   "outputs": [],
   "source": [
    "list_output_parser = CommaSeparatedListOutputParser()"
   ]
  },
  {
   "cell_type": "code",
   "execution_count": 18,
   "id": "dd56e3d2-983d-4ea6-a71f-29c84b880435",
   "metadata": {},
   "outputs": [],
   "source": [
    "response_parsed = list_output_parser.invoke(response)"
   ]
  },
  {
   "cell_type": "code",
   "execution_count": 21,
   "id": "a3edbb82-539b-4efa-8526-398e86239d13",
   "metadata": {},
   "outputs": [
    {
     "name": "stdout",
     "output_type": "stream",
     "text": [
      "<class 'list'>\n"
     ]
    }
   ],
   "source": [
    "print(type(response_parsed))"
   ]
  },
  {
   "cell_type": "code",
   "execution_count": 19,
   "id": "154fedb0-8ede-42d0-aef8-5e8c667d72bc",
   "metadata": {},
   "outputs": [
    {
     "data": {
      "text/plain": [
       "['Software Developer',\n",
       " 'Network Administrator',\n",
       " 'IT Project Manager',\n",
       " 'Data Analyst',\n",
       " 'IT Consultant',\n",
       " 'System Analyst',\n",
       " 'IT Support Specialist',\n",
       " 'IT Director',\n",
       " 'Web Developer',\n",
       " 'Database Administrator',\n",
       " 'IT Security Specialist',\n",
       " 'IT Manager',\n",
       " 'IT Technician',\n",
       " 'IT Coordinator',\n",
       " 'IT Analyst',\n",
       " 'IT Sales Professional',\n",
       " 'IT Trainer',\n",
       " 'IT Auditor',\n",
       " 'Cloud Architect',\n",
       " 'IT Customer Service',\n",
       " 'IT Quality Assurance',\n",
       " 'IT Business Analyst',\n",
       " 'IT Operations Manager',\n",
       " 'IT Product Manager',\n",
       " 'IT Service Manager',\n",
       " 'IT Strategy Manager',\n",
       " 'IT Technical Writer',\n",
       " 'IT User Experience Designer',\n",
       " 'IT Vendor']"
      ]
     },
     "execution_count": 19,
     "metadata": {},
     "output_type": "execute_result"
    }
   ],
   "source": [
    "response_parsed"
   ]
  },
  {
   "cell_type": "code",
   "execution_count": 20,
   "id": "c155fa75-cba1-4cd3-bacd-b31acf32890f",
   "metadata": {},
   "outputs": [
    {
     "name": "stdout",
     "output_type": "stream",
     "text": [
      "Your response should be a list of comma separated values, eg: `foo, bar, baz` or `foo,bar,baz`\n"
     ]
    }
   ],
   "source": [
    "print(list_output_parser.get_format_instructions())"
   ]
  },
  {
   "cell_type": "markdown",
   "id": "727409fa-d93b-4e9d-a5a0-3a878987037c",
   "metadata": {},
   "source": [
    "# Datetime Output Parser"
   ]
  },
  {
   "cell_type": "code",
   "execution_count": 22,
   "id": "1d5c95dc-7d8a-4ebe-aeb7-b891503bf72e",
   "metadata": {},
   "outputs": [],
   "source": [
    "from langchain.output_parsers import DatetimeOutputParser"
   ]
  },
  {
   "cell_type": "code",
   "execution_count": 25,
   "id": "c9a2349f-0cae-46e2-a1f0-da747d53b32d",
   "metadata": {},
   "outputs": [],
   "source": [
    "message_h = HumanMessage(content = f'''When was the Teleperformnace Pvt Ltd originated?\n",
    "{DatetimeOutputParser().get_format_instructions()}\n",
    "''')"
   ]
  },
  {
   "cell_type": "code",
   "execution_count": 26,
   "id": "f80583ec-66ac-41bf-b232-6a3c83cccdde",
   "metadata": {},
   "outputs": [
    {
     "name": "stdout",
     "output_type": "stream",
     "text": [
      "When was the Teleperformnace Pvt Ltd originated?\n",
      "Write a datetime string that matches the following pattern: '%Y-%m-%dT%H:%M:%S.%fZ'.\n",
      "\n",
      "Examples: 0755-12-04T03:05:11.078251Z, 0072-05-10T13:09:05.267474Z, 0140-05-07T20:03:48.961744Z\n",
      "\n",
      "Return ONLY this string, no other words!\n",
      "\n"
     ]
    }
   ],
   "source": [
    "print(message_h.content)"
   ]
  },
  {
   "cell_type": "code",
   "execution_count": 27,
   "id": "3f4a14be-35d8-47ae-aacf-4322f1374dd1",
   "metadata": {},
   "outputs": [
    {
     "name": "stdout",
     "output_type": "stream",
     "text": [
      "1978-06-10T00:00:00.000000Z\n"
     ]
    }
   ],
   "source": [
    "response = chat.invoke([message_h])\n",
    "print(response.content)"
   ]
  },
  {
   "cell_type": "code",
   "execution_count": 28,
   "id": "e426469b-a48f-4960-bcec-1acc1ec8c9e4",
   "metadata": {},
   "outputs": [],
   "source": [
    "date_output_parser = DatetimeOutputParser()"
   ]
  },
  {
   "cell_type": "code",
   "execution_count": 29,
   "id": "bcf8e33b-facb-439e-b34f-20ce57a42293",
   "metadata": {},
   "outputs": [],
   "source": [
    "response_parsed = date_output_parser.invoke(response)"
   ]
  },
  {
   "cell_type": "code",
   "execution_count": 30,
   "id": "b5473dc9-b31a-4e83-9fea-3a41c2ba5578",
   "metadata": {},
   "outputs": [
    {
     "data": {
      "text/plain": [
       "datetime.datetime(1978, 6, 10, 0, 0)"
      ]
     },
     "execution_count": 30,
     "metadata": {},
     "output_type": "execute_result"
    }
   ],
   "source": [
    "response_parsed"
   ]
  },
  {
   "cell_type": "code",
   "execution_count": 31,
   "id": "cbd05323-3e66-4dee-9025-f2b904b4b7e8",
   "metadata": {},
   "outputs": [
    {
     "name": "stdout",
     "output_type": "stream",
     "text": [
      "Write a datetime string that matches the following pattern: '%Y-%m-%dT%H:%M:%S.%fZ'.\n",
      "\n",
      "Examples: 1384-12-13T22:39:30.536743Z, 1701-08-16T11:52:49.321434Z, 1756-07-27T04:12:18.571129Z\n",
      "\n",
      "Return ONLY this string, no other words!\n"
     ]
    }
   ],
   "source": [
    "print(date_output_parser.get_format_instructions())"
   ]
  },
  {
   "cell_type": "code",
   "execution_count": null,
   "id": "c74c79d7-601b-45b3-a275-1bec76d3b5b9",
   "metadata": {},
   "outputs": [],
   "source": []
  }
 ],
 "metadata": {
  "kernelspec": {
   "display_name": "longchain_env",
   "language": "python",
   "name": "longchain_env"
  },
  "language_info": {
   "codemirror_mode": {
    "name": "ipython",
    "version": 3
   },
   "file_extension": ".py",
   "mimetype": "text/x-python",
   "name": "python",
   "nbconvert_exporter": "python",
   "pygments_lexer": "ipython3",
   "version": "3.10.10"
  }
 },
 "nbformat": 4,
 "nbformat_minor": 5
}
