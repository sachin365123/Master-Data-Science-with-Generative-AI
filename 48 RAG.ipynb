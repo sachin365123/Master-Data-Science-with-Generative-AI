{
 "cells": [
  {
   "cell_type": "markdown",
   "id": "728eaa25",
   "metadata": {},
   "source": [
    "# Indexing: Inspecting and Managing Documents in a Vectorstore"
   ]
  },
  {
   "cell_type": "code",
   "execution_count": null,
   "id": "e9dc7cef-7575-448d-b910-edfa8c6cf7f3",
   "metadata": {},
   "outputs": [],
   "source": [
    "# Run the line of code below to check the version of langchain in the current environment.\n",
    "# Substitute \"langchain\" with any other package name to check their version."
   ]
  },
  {
   "cell_type": "code",
   "execution_count": null,
   "id": "5dad7e54-34ea-47c3-9d3a-9f63eade5411",
   "metadata": {},
   "outputs": [],
   "source": [
    "pip show langchain"
   ]
  },
  {
   "cell_type": "code",
   "execution_count": 1,
   "id": "0d8b476a",
   "metadata": {},
   "outputs": [],
   "source": [
    "%load_ext dotenv\n",
    "%dotenv"
   ]
  },
  {
   "cell_type": "code",
   "execution_count": 2,
   "id": "658083c5",
   "metadata": {},
   "outputs": [],
   "source": [
    "from langchain_openai.embeddings import OpenAIEmbeddings\n",
    "from langchain_community.vectorstores import Chroma\n",
    "from langchain_core.documents import Document"
   ]
  },
  {
   "cell_type": "code",
   "execution_count": 3,
   "id": "ddce29e1",
   "metadata": {},
   "outputs": [],
   "source": [
    "embedding = OpenAIEmbeddings(model='text-embedding-ada-002')"
   ]
  },
  {
   "cell_type": "code",
   "execution_count": 4,
   "id": "57a69483",
   "metadata": {},
   "outputs": [
    {
     "name": "stderr",
     "output_type": "stream",
     "text": [
      "C:\\Users\\HP\\AppData\\Local\\Temp\\ipykernel_16024\\4065001910.py:1: LangChainDeprecationWarning: The class `Chroma` was deprecated in LangChain 0.2.9 and will be removed in 1.0. An updated version of the class exists in the :class:`~langchain-chroma package and should be used instead. To use it run `pip install -U :class:`~langchain-chroma` and import as `from :class:`~langchain_chroma import Chroma``.\n",
      "  vectorstore_from_directory = Chroma(persist_directory = \"./intro-to-ds-lectures\",\n"
     ]
    }
   ],
   "source": [
    "vectorstore_from_directory = Chroma(persist_directory = \"./intro-to-ds-lectures\", \n",
    "                                    embedding_function = embedding)"
   ]
  },
  {
   "cell_type": "code",
   "execution_count": 5,
   "id": "e3ff7496-8633-4b8c-b33c-75c42994d874",
   "metadata": {},
   "outputs": [
    {
     "data": {
      "text/plain": [
       "{'ids': ['291e42e5-cf7a-450b-9027-188ba4df300e',\n",
       "  '55463110-2515-4189-beb5-a33087cd8933',\n",
       "  '63bdd151-0c54-4689-be90-1c1273948386',\n",
       "  '1607d9e9-e656-4c1f-bb97-3fd91431bfdf',\n",
       "  '29927a1c-2359-49a1-9fe4-b751601d68a2',\n",
       "  'cf329c08-c5f3-4c8f-9bd4-7d02a32e56ab',\n",
       "  '911fbe77-61c2-4e32-8771-fbc3250c1ed4',\n",
       "  'b3a8352a-49af-4a80-99f0-33b1ad909cb5',\n",
       "  '6c438000-b120-4c1e-b14c-08cc32454412',\n",
       "  '12b51d79-c204-4a36-a5d7-429bac3aa9d0',\n",
       "  '9a15f8a4-3215-4a09-bb88-ad17c404b8fd',\n",
       "  '574ac2c5-6074-4653-8f9e-d57d3a094279',\n",
       "  '156281da-cc43-4b05-be9f-3cb1222ba050',\n",
       "  'da7c555e-4884-4339-ab60-121cfe014f0b',\n",
       "  'b68fcbde-6873-49d3-94ce-22c5cf3e70d1',\n",
       "  'e71f1a46-5739-496f-b919-a5092c14cf6a',\n",
       "  '8780b9f3-b125-4381-b674-4b21c2557942',\n",
       "  '14199141-ad22-4798-9395-41ebeb91a560',\n",
       "  '14c4532a-9461-4d22-84c8-837052af4559',\n",
       "  'ea2f5bd1-2e76-4e5a-a3c1-758bbf7edf78',\n",
       "  '81fbfec2-562e-4136-b71b-a71e7c33bccc',\n",
       "  'cd0cfa52-1377-4358-993b-45561d9a8b05',\n",
       "  '949a66a4-539c-4e74-b1a8-2cc575045537',\n",
       "  '96bf0b57-e22f-4893-95ff-f8e31268926e',\n",
       "  'aa75361f-3d1e-44e9-94fd-2a68685e61b9',\n",
       "  '9c033121-4be0-497e-8c5c-6766844122cc',\n",
       "  '478700fe-786a-4ee6-a48f-2faaf1d3a53e',\n",
       "  '72e51e4c-8445-4297-a886-a40b4a373730',\n",
       "  '6fefce4b-82f2-434a-aa53-d603e4718816',\n",
       "  '9e665760-5183-4fe8-9553-c5c8a30985a2',\n",
       "  'bbe0fcb8-5513-4d80-aff7-34c85f5f770e',\n",
       "  'ffd582ff-a419-4e89-9423-a0230d530576',\n",
       "  '001e51dd-ac73-4000-ba9b-3a33ba442845',\n",
       "  '8d0967e4-ebc3-4864-97a3-6a52c3e62731',\n",
       "  '3d17d4e6-510b-4a56-81e4-51425c4b780d',\n",
       "  'deeebe6d-f3b8-4749-963d-b37aa65a02db',\n",
       "  'f99508cb-772b-40c1-ac76-a37b03fe844a',\n",
       "  'e17cf118-6446-4b4c-84a3-d6ba4a80d7f8',\n",
       "  'e34a5ccb-0439-4c84-b3d9-cd1e5aeb039b',\n",
       "  'a55c98fb-b38a-4930-856f-51cb4103bcb4'],\n",
       " 'embeddings': None,\n",
       " 'documents': ['Alright! So… Let’s discuss the not-so-obvious differences between the terms analysis and analytics. Due to the similarity of the words, some people believe they share the same meaning, and thus use them interchangeably. Technically, this isn’t correct. There is, in fact, a distinct difference between the two. And the reason for one often being used instead of the other is the lack of a transparent understanding of both. So, let’s clear this up, shall we? First, we will start with analysis',\n",
       "  'Consider the following… You have a huge dataset containing data of various types. Instead of tackling the entire dataset and running the risk of becoming overwhelmed, you separate it into easier to digest chunks and study them individually and examine how they relate to other parts. And that’s analysis in a nutshell. One important thing to remember, however, is that you perform analyses on things that have already happened in the past',\n",
       "  'Such as using an analysis to explain how a story ended the way it did or how there was a decrease in sales last summer. All this means that we do analyses to explain how and/or why something happened. Great! Now, this leads us nicely on to the definition of analytics. As you have probably guessed, analytics generally refers to the future. Instead of explaining past events it explores potential future ones',\n",
       "  'Analytics is essentially the application of logical and computational reasoning to the component parts obtained in an analysis. And in doing this you are looking for patterns and exploring what you could do with them in the future. Here, analytics branches off into two areas: qualitative analytics – this is using your intuition and experience in conjunction with the analysis to plan your next business move',\n",
       "  \"And quantitative analytics – this is applying formulas and algorithms to numbers you have gathered from your analysis. Here are a couple of examples. Say, you are an owner of an online clothing store. You are ahead of the competition and have a great understanding of what your customer's needs and wants are. You’ve performed a very detailed analysis from women’s clothing articles and feel sure about which fashion trends to follow\",\n",
       "  'You may use this intuition to decide on which styles of clothing to start selling. This would be qualitative analytics. But you might not know when to introduce the new collection. In that case, relying on past sales data and user experience data, you could predict in which month it would be best to do that. This is an example of using quantitative analytics',\n",
       "  'Fantastic! To backtrack a little, you can combine these areas with analyses also – you could perform qualitative analysis – to explain how or why a story ended the way it did. And you can perform quantitative analysis – working with past data to explain how sales decreased last summer',\n",
       "  'Perfect! Now that we have cleared up the differences between analysis and analytics it shouldn’t be too difficult to see how terms such as ‘data analysis’, ‘data analytics’, ‘business analysis’ and ‘business analytics’ can have their unique meanings too. More of this will be explained in the next video which aims to simplify these, as well as many more with a fantastic diagram. So, let’s move on!',\n",
       "  'Alright! So… How are the techniques used in data, business intelligence, or predictive analytics applied in real life? Certainly, with the help of computers. You can basically split the relevant tools into two categories—programming languages and software. Knowing a programming language enables you to devise programs that can execute specific operations. Moreover, you can reuse these programs whenever you need to execute the same action',\n",
       "  'As you can see from the infographic, R, and Python are the two most popular tools across all columns. Their biggest advantage is that they can manipulate data and are integrated within multiple data and data science software platforms. They are not just suitable for mathematical and statistical computations. In other words, R, and Python are adaptable. They can solve a wide variety of business and data-related problems from beginning to the end',\n",
       "  'Of course, R, and Python do have their limitations. They are not able to address problems specific to some domains. One example is ‘relational database management systems’—there, SQL is king. It was specifically created for that purpose. SQL is at its most advantageous when working with traditional, historical data. When preparing your BI analysis, for instance, you will surely employ it. Okay. When it comes to data science, mentioning MATLAB is inevitable',\n",
       "  'It is ideal for working with mathematical functions or matrix manipulations. That’s why it is present in all categories except for ‘big data’. While respectable, MATLAB usage is a paid service, and that’s one of the reasons why it is losing ground to open-source languages like R and Python. Either way, R, Python, and MATLAB, combined with SQL, cover most of the tools used when working with traditional data, BI, and conventional data science',\n",
       "  'What about big data? Apart from R and Python, people working in this area are often proficient in other languages like Java or Scala. These two have not been developed specifically for doing statistical analyses, however they turn out to be very useful when combining data from multiple sources. All right! Let’s finish off with machine learning. When it comes to machine learning, we often deal with big data',\n",
       "  'Thus, we need a lot of computational power, and we can expect people to use the languages similar to those in the big data column. Apart from R, Python, and MATLAB, other, faster languages are used like Java, JavaScript, C, C++, and Scala. Cool. What we said may be wonderful, but that’s not all! By using one or more programming languages, people create application software or, as they are sometimes called, software solutions, that are adjusted for specific business needs',\n",
       "  'Their smaller scope does not make them less useful, in fact, just the opposite—they are a lot easier to learn and be adopted by others. You have already heard of several of those. Because of its ability to do relatively complex computations and good visualizations quickly, Excel is a tool applicable to more than one category—traditional data, BI, and Data Science. Similarly, SPSS is a very famous tool for working with traditional data and applying statistical analysis',\n",
       "  'Among the many applications we have plotted, we can say there is an increasing amount of software designed for working with big data such as Apache Hadoop, Apache Hbase, and Mongo DB. In terms of big data, Hadoop is the name that must stick with you. Hadoop is listed as a software in the sense that it is a collection of programs, but don’t imagine it as a nice-looking application',\n",
       "  'It’s actually a software framework which was designed to address the complexity of big data and its computational intensity. Most notably, Hadoop distributes the computational tasks on multiple computers which is basically the way to handle big data nowadays. Power BI, SaS, Qlik, and especially Tableau are top-notch examples of software designed for business intelligence visualizations',\n",
       "  'In terms of predictive analytics, EViews is mostly used for working with econometric time-series models, and Stata—for academic statistical and econometric research, where techniques like regression, cluster, and factor analysis are constantly applied. As a final note, remember the following. Should you have the relevant business and theoretical knowledge, learning a software tool is relatively easy as opposed to learning a programming language',\n",
       "  'More importantly, it will be sufficient for your need to create quick and accurate analyses. However, if your theoretical preparation is strong enough, you will find yourself restricted by software. Knowing a programming language such as R and Python, gives you the freedom to create specific, ad-hoc tools for each project you are working on',\n",
       "  'Great! We hope we gave you a good idea about the level of applicability of the most frequently used programming and software tools in the field of data science. Thank you for watching!',\n",
       "  'Alright! So… Let’s discuss the not-so-obvious differences between the terms analysis and analytics. Due to the similarity of the words, some people believe they share the same meaning, and thus use them interchangeably. Technically, this isn’t correct. There is, in fact, a distinct difference between the two. And the reason for one often being used instead of the other is the lack of a transparent understanding of both. So, let’s clear this up, shall we? First, we will start with analysis',\n",
       "  'Consider the following… You have a huge dataset containing data of various types. Instead of tackling the entire dataset and running the risk of becoming overwhelmed, you separate it into easier to digest chunks and study them individually and examine how they relate to other parts. And that’s analysis in a nutshell. One important thing to remember, however, is that you perform analyses on things that have already happened in the past',\n",
       "  'Such as using an analysis to explain how a story ended the way it did or how there was a decrease in sales last summer. All this means that we do analyses to explain how and/or why something happened. Great! Now, this leads us nicely on to the definition of analytics. As you have probably guessed, analytics generally refers to the future. Instead of explaining past events it explores potential future ones',\n",
       "  'Analytics is essentially the application of logical and computational reasoning to the component parts obtained in an analysis. And in doing this you are looking for patterns and exploring what you could do with them in the future. Here, analytics branches off into two areas: qualitative analytics – this is using your intuition and experience in conjunction with the analysis to plan your next business move',\n",
       "  \"And quantitative analytics – this is applying formulas and algorithms to numbers you have gathered from your analysis. Here are a couple of examples. Say, you are an owner of an online clothing store. You are ahead of the competition and have a great understanding of what your customer's needs and wants are. You’ve performed a very detailed analysis from women’s clothing articles and feel sure about which fashion trends to follow\",\n",
       "  'You may use this intuition to decide on which styles of clothing to start selling. This would be qualitative analytics. But you might not know when to introduce the new collection. In that case, relying on past sales data and user experience data, you could predict in which month it would be best to do that. This is an example of using quantitative analytics',\n",
       "  'Fantastic! To backtrack a little, you can combine these areas with analyses also – you could perform qualitative analysis – to explain how or why a story ended the way it did. And you can perform quantitative analysis – working with past data to explain how sales decreased last summer',\n",
       "  'Perfect! Now that we have cleared up the differences between analysis and analytics it shouldn’t be too difficult to see how terms such as ‘data analysis’, ‘data analytics’, ‘business analysis’ and ‘business analytics’ can have their unique meanings too. More of this will be explained in the next video which aims to simplify these, as well as many more with a fantastic diagram. So, let’s move on!',\n",
       "  'Alright! So… How are the techniques used in data, business intelligence, or predictive analytics applied in real life? Certainly, with the help of computers. You can basically split the relevant tools into two categories—programming languages and software. Knowing a programming language enables you to devise programs that can execute specific operations. Moreover, you can reuse these programs whenever you need to execute the same action',\n",
       "  'As you can see from the infographic, R, and Python are the two most popular tools across all columns. Their biggest advantage is that they can manipulate data and are integrated within multiple data and data science software platforms. They are not just suitable for mathematical and statistical computations. In other words, R, and Python are adaptable. They can solve a wide variety of business and data-related problems from beginning to the end',\n",
       "  'Of course, R, and Python do have their limitations. They are not able to address problems specific to some domains. One example is ‘relational database management systems’—there, SQL is king. It was specifically created for that purpose. SQL is at its most advantageous when working with traditional, historical data. When preparing your BI analysis, for instance, you will surely employ it. Okay. When it comes to data science, mentioning MATLAB is inevitable',\n",
       "  'It is ideal for working with mathematical functions or matrix manipulations. That’s why it is present in all categories except for ‘big data’. While respectable, MATLAB usage is a paid service, and that’s one of the reasons why it is losing ground to open-source languages like R and Python. Either way, R, Python, and MATLAB, combined with SQL, cover most of the tools used when working with traditional data, BI, and conventional data science',\n",
       "  'What about big data? Apart from R and Python, people working in this area are often proficient in other languages like Java or Scala. These two have not been developed specifically for doing statistical analyses, however they turn out to be very useful when combining data from multiple sources. All right! Let’s finish off with machine learning. When it comes to machine learning, we often deal with big data',\n",
       "  'Thus, we need a lot of computational power, and we can expect people to use the languages similar to those in the big data column. Apart from R, Python, and MATLAB, other, faster languages are used like Java, JavaScript, C, C++, and Scala. Cool. What we said may be wonderful, but that’s not all! By using one or more programming languages, people create application software or, as they are sometimes called, software solutions, that are adjusted for specific business needs',\n",
       "  'Their smaller scope does not make them less useful, in fact, just the opposite—they are a lot easier to learn and be adopted by others. You have already heard of several of those. Because of its ability to do relatively complex computations and good visualizations quickly, Excel is a tool applicable to more than one category—traditional data, BI, and Data Science. Similarly, SPSS is a very famous tool for working with traditional data and applying statistical analysis',\n",
       "  'Among the many applications we have plotted, we can say there is an increasing amount of software designed for working with big data such as Apache Hadoop, Apache Hbase, and Mongo DB. In terms of big data, Hadoop is the name that must stick with you. Hadoop is listed as a software in the sense that it is a collection of programs, but don’t imagine it as a nice-looking application',\n",
       "  'It’s actually a software framework which was designed to address the complexity of big data and its computational intensity. Most notably, Hadoop distributes the computational tasks on multiple computers which is basically the way to handle big data nowadays. Power BI, SaS, Qlik, and especially Tableau are top-notch examples of software designed for business intelligence visualizations',\n",
       "  'In terms of predictive analytics, EViews is mostly used for working with econometric time-series models, and Stata—for academic statistical and econometric research, where techniques like regression, cluster, and factor analysis are constantly applied. As a final note, remember the following. Should you have the relevant business and theoretical knowledge, learning a software tool is relatively easy as opposed to learning a programming language',\n",
       "  'More importantly, it will be sufficient for your need to create quick and accurate analyses. However, if your theoretical preparation is strong enough, you will find yourself restricted by software. Knowing a programming language such as R and Python, gives you the freedom to create specific, ad-hoc tools for each project you are working on',\n",
       "  'Great! We hope we gave you a good idea about the level of applicability of the most frequently used programming and software tools in the field of data science. Thank you for watching!'],\n",
       " 'uris': None,\n",
       " 'data': None,\n",
       " 'metadatas': [{'Course Title': 'Introduction to Data and Data Science',\n",
       "   'Lecture Title': 'Analysis vs Analytics'},\n",
       "  {'Course Title': 'Introduction to Data and Data Science',\n",
       "   'Lecture Title': 'Analysis vs Analytics'},\n",
       "  {'Course Title': 'Introduction to Data and Data Science',\n",
       "   'Lecture Title': 'Analysis vs Analytics'},\n",
       "  {'Course Title': 'Introduction to Data and Data Science',\n",
       "   'Lecture Title': 'Analysis vs Analytics'},\n",
       "  {'Course Title': 'Introduction to Data and Data Science',\n",
       "   'Lecture Title': 'Analysis vs Analytics'},\n",
       "  {'Course Title': 'Introduction to Data and Data Science',\n",
       "   'Lecture Title': 'Analysis vs Analytics'},\n",
       "  {'Course Title': 'Introduction to Data and Data Science',\n",
       "   'Lecture Title': 'Analysis vs Analytics'},\n",
       "  {'Course Title': 'Introduction to Data and Data Science',\n",
       "   'Lecture Title': 'Analysis vs Analytics'},\n",
       "  {'Course Title': 'Introduction to Data and Data Science',\n",
       "   'Lecture Title': 'Programming Languages & Software Employed in Data Science - All the Tools You Need'},\n",
       "  {'Course Title': 'Introduction to Data and Data Science',\n",
       "   'Lecture Title': 'Programming Languages & Software Employed in Data Science - All the Tools You Need'},\n",
       "  {'Course Title': 'Introduction to Data and Data Science',\n",
       "   'Lecture Title': 'Programming Languages & Software Employed in Data Science - All the Tools You Need'},\n",
       "  {'Course Title': 'Introduction to Data and Data Science',\n",
       "   'Lecture Title': 'Programming Languages & Software Employed in Data Science - All the Tools You Need'},\n",
       "  {'Course Title': 'Introduction to Data and Data Science',\n",
       "   'Lecture Title': 'Programming Languages & Software Employed in Data Science - All the Tools You Need'},\n",
       "  {'Course Title': 'Introduction to Data and Data Science',\n",
       "   'Lecture Title': 'Programming Languages & Software Employed in Data Science - All the Tools You Need'},\n",
       "  {'Course Title': 'Introduction to Data and Data Science',\n",
       "   'Lecture Title': 'Programming Languages & Software Employed in Data Science - All the Tools You Need'},\n",
       "  {'Course Title': 'Introduction to Data and Data Science',\n",
       "   'Lecture Title': 'Programming Languages & Software Employed in Data Science - All the Tools You Need'},\n",
       "  {'Course Title': 'Introduction to Data and Data Science',\n",
       "   'Lecture Title': 'Programming Languages & Software Employed in Data Science - All the Tools You Need'},\n",
       "  {'Course Title': 'Introduction to Data and Data Science',\n",
       "   'Lecture Title': 'Programming Languages & Software Employed in Data Science - All the Tools You Need'},\n",
       "  {'Course Title': 'Introduction to Data and Data Science',\n",
       "   'Lecture Title': 'Programming Languages & Software Employed in Data Science - All the Tools You Need'},\n",
       "  {'Course Title': 'Introduction to Data and Data Science',\n",
       "   'Lecture Title': 'Programming Languages & Software Employed in Data Science - All the Tools You Need'},\n",
       "  {'Course Title': 'Introduction to Data and Data Science',\n",
       "   'Lecture Title': 'Analysis vs Analytics'},\n",
       "  {'Course Title': 'Introduction to Data and Data Science',\n",
       "   'Lecture Title': 'Analysis vs Analytics'},\n",
       "  {'Course Title': 'Introduction to Data and Data Science',\n",
       "   'Lecture Title': 'Analysis vs Analytics'},\n",
       "  {'Course Title': 'Introduction to Data and Data Science',\n",
       "   'Lecture Title': 'Analysis vs Analytics'},\n",
       "  {'Course Title': 'Introduction to Data and Data Science',\n",
       "   'Lecture Title': 'Analysis vs Analytics'},\n",
       "  {'Course Title': 'Introduction to Data and Data Science',\n",
       "   'Lecture Title': 'Analysis vs Analytics'},\n",
       "  {'Course Title': 'Introduction to Data and Data Science',\n",
       "   'Lecture Title': 'Analysis vs Analytics'},\n",
       "  {'Course Title': 'Introduction to Data and Data Science',\n",
       "   'Lecture Title': 'Analysis vs Analytics'},\n",
       "  {'Course Title': 'Introduction to Data and Data Science',\n",
       "   'Lecture Title': 'Programming Languages & Software Employed in Data Science - All the Tools You Need'},\n",
       "  {'Course Title': 'Introduction to Data and Data Science',\n",
       "   'Lecture Title': 'Programming Languages & Software Employed in Data Science - All the Tools You Need'},\n",
       "  {'Course Title': 'Introduction to Data and Data Science',\n",
       "   'Lecture Title': 'Programming Languages & Software Employed in Data Science - All the Tools You Need'},\n",
       "  {'Course Title': 'Introduction to Data and Data Science',\n",
       "   'Lecture Title': 'Programming Languages & Software Employed in Data Science - All the Tools You Need'},\n",
       "  {'Course Title': 'Introduction to Data and Data Science',\n",
       "   'Lecture Title': 'Programming Languages & Software Employed in Data Science - All the Tools You Need'},\n",
       "  {'Course Title': 'Introduction to Data and Data Science',\n",
       "   'Lecture Title': 'Programming Languages & Software Employed in Data Science - All the Tools You Need'},\n",
       "  {'Course Title': 'Introduction to Data and Data Science',\n",
       "   'Lecture Title': 'Programming Languages & Software Employed in Data Science - All the Tools You Need'},\n",
       "  {'Course Title': 'Introduction to Data and Data Science',\n",
       "   'Lecture Title': 'Programming Languages & Software Employed in Data Science - All the Tools You Need'},\n",
       "  {'Course Title': 'Introduction to Data and Data Science',\n",
       "   'Lecture Title': 'Programming Languages & Software Employed in Data Science - All the Tools You Need'},\n",
       "  {'Course Title': 'Introduction to Data and Data Science',\n",
       "   'Lecture Title': 'Programming Languages & Software Employed in Data Science - All the Tools You Need'},\n",
       "  {'Course Title': 'Introduction to Data and Data Science',\n",
       "   'Lecture Title': 'Programming Languages & Software Employed in Data Science - All the Tools You Need'},\n",
       "  {'Course Title': 'Introduction to Data and Data Science',\n",
       "   'Lecture Title': 'Programming Languages & Software Employed in Data Science - All the Tools You Need'}],\n",
       " 'included': [<IncludeEnum.documents: 'documents'>,\n",
       "  <IncludeEnum.metadatas: 'metadatas'>]}"
      ]
     },
     "execution_count": 5,
     "metadata": {},
     "output_type": "execute_result"
    }
   ],
   "source": [
    "vectorstore_from_directory.get()"
   ]
  },
  {
   "cell_type": "code",
   "execution_count": 6,
   "id": "a91ea6e6",
   "metadata": {},
   "outputs": [
    {
     "data": {
      "text/plain": [
       "{'ids': [],\n",
       " 'embeddings': array([], dtype=float64),\n",
       " 'documents': None,\n",
       " 'uris': None,\n",
       " 'data': None,\n",
       " 'metadatas': None,\n",
       " 'included': [<IncludeEnum.embeddings: 'embeddings'>]}"
      ]
     },
     "execution_count": 6,
     "metadata": {},
     "output_type": "execute_result"
    }
   ],
   "source": [
    "vectorstore_from_directory.get(ids = \"00829d7d-4ad7-4f83-93c2-1c606f3c14bf\", \n",
    "                               include = [\"embeddings\"])"
   ]
  },
  {
   "cell_type": "code",
   "execution_count": 7,
   "id": "c87368be",
   "metadata": {},
   "outputs": [],
   "source": [
    "added_document = Document(page_content='Alright! So… Let’s discuss the not-so-obvious differences between the terms analysis and analytics. Due to the similarity of the words, some people believe they share the same meaning, and thus use them interchangeably. Technically, this isn’t correct. There is, in fact, a distinct difference between the two. And the reason for one often being used instead of the other is the lack of a transparent understanding of both. So, let’s clear this up, shall we? First, we will start with analysis', \n",
    "                          metadata={'Course Title': 'Introduction to Data and Data Science', \n",
    "                                    'Lecture Title': 'Analysis vs Analytics'})"
   ]
  },
  {
   "cell_type": "code",
   "execution_count": 8,
   "id": "f6b2c46d",
   "metadata": {},
   "outputs": [
    {
     "data": {
      "text/plain": [
       "['2175823a-9a5e-4efa-8e7d-3a2993d2efbc']"
      ]
     },
     "execution_count": 8,
     "metadata": {},
     "output_type": "execute_result"
    }
   ],
   "source": [
    "vectorstore_from_directory.add_documents([added_document])"
   ]
  },
  {
   "cell_type": "code",
   "execution_count": null,
   "id": "56cc74d1-80ca-47df-973d-a31139c9d5cb",
   "metadata": {},
   "outputs": [],
   "source": []
  },
  {
   "cell_type": "code",
   "execution_count": 9,
   "id": "db517d41",
   "metadata": {},
   "outputs": [
    {
     "data": {
      "text/plain": [
       "{'ids': [],\n",
       " 'embeddings': None,\n",
       " 'documents': [],\n",
       " 'uris': None,\n",
       " 'data': None,\n",
       " 'metadatas': [],\n",
       " 'included': [<IncludeEnum.documents: 'documents'>,\n",
       "  <IncludeEnum.metadatas: 'metadatas'>]}"
      ]
     },
     "execution_count": 9,
     "metadata": {},
     "output_type": "execute_result"
    }
   ],
   "source": [
    "vectorstore_from_directory.get(\"55409552-1943-4892-949a-3b475ff9c840\")"
   ]
  },
  {
   "cell_type": "code",
   "execution_count": 10,
   "id": "43eba571",
   "metadata": {},
   "outputs": [],
   "source": [
    "updated_document = Document(page_content='Great! We hope we gave you a good idea about the level of applicability of the most frequently used programming and software tools in the field of data science. Thank you for watching!', \n",
    "                            metadata={'Course Title': 'Introduction to Data and Data Science', \n",
    "                                     'Lecture Title': 'Programming Languages & Software Employed in Data Science - All the Tools You Need'})"
   ]
  },
  {
   "cell_type": "code",
   "execution_count": 11,
   "id": "834ce920",
   "metadata": {},
   "outputs": [
    {
     "name": "stderr",
     "output_type": "stream",
     "text": [
      "Update of nonexisting embedding ID: 55409552-1943-4892-949a-3b475ff9c840\n",
      "Update of nonexisting embedding ID: 55409552-1943-4892-949a-3b475ff9c840\n"
     ]
    }
   ],
   "source": [
    "vectorstore_from_directory.update_document(document_id = \"55409552-1943-4892-949a-3b475ff9c840\", \n",
    "                                           document = updated_document)"
   ]
  },
  {
   "cell_type": "code",
   "execution_count": 12,
   "id": "7c198988",
   "metadata": {},
   "outputs": [
    {
     "data": {
      "text/plain": [
       "{'ids': [],\n",
       " 'embeddings': None,\n",
       " 'documents': [],\n",
       " 'uris': None,\n",
       " 'data': None,\n",
       " 'metadatas': [],\n",
       " 'included': [<IncludeEnum.documents: 'documents'>,\n",
       "  <IncludeEnum.metadatas: 'metadatas'>]}"
      ]
     },
     "execution_count": 12,
     "metadata": {},
     "output_type": "execute_result"
    }
   ],
   "source": [
    "vectorstore_from_directory.get(\"55409552-1943-4892-949a-3b475ff9c840\")"
   ]
  },
  {
   "cell_type": "code",
   "execution_count": 13,
   "id": "6bb80a70",
   "metadata": {},
   "outputs": [
    {
     "name": "stderr",
     "output_type": "stream",
     "text": [
      "Delete of nonexisting embedding ID: 55409552-1943-4892-949a-3b475ff9c840\n",
      "Delete of nonexisting embedding ID: 55409552-1943-4892-949a-3b475ff9c840\n"
     ]
    }
   ],
   "source": [
    "vectorstore_from_directory.delete(\"55409552-1943-4892-949a-3b475ff9c840\")"
   ]
  },
  {
   "cell_type": "code",
   "execution_count": 14,
   "id": "b349839c",
   "metadata": {},
   "outputs": [
    {
     "data": {
      "text/plain": [
       "{'ids': [],\n",
       " 'embeddings': None,\n",
       " 'documents': [],\n",
       " 'uris': None,\n",
       " 'data': None,\n",
       " 'metadatas': [],\n",
       " 'included': [<IncludeEnum.documents: 'documents'>,\n",
       "  <IncludeEnum.metadatas: 'metadatas'>]}"
      ]
     },
     "execution_count": 14,
     "metadata": {},
     "output_type": "execute_result"
    }
   ],
   "source": [
    "vectorstore_from_directory.get(\"55409552-1943-4892-949a-3b475ff9c840\")"
   ]
  },
  {
   "cell_type": "code",
   "execution_count": null,
   "id": "70aef855",
   "metadata": {},
   "outputs": [],
   "source": []
  },
  {
   "cell_type": "markdown",
   "id": "9118230e-3c4a-4db6-9b36-221ef815d9e6",
   "metadata": {},
   "source": [
    "# Retrieval: Similarity Search"
   ]
  },
  {
   "cell_type": "code",
   "execution_count": null,
   "id": "0cc66850-58fe-48a1-b856-9242f8d0dd6f",
   "metadata": {},
   "outputs": [],
   "source": [
    "# Now our goal with this lesson is the following.\n",
    "\n",
    "# First, define a question related to data science.\n",
    "\n",
    "# Secondly, use the embedding function of the vector store to create a vector representation of this\n",
    "\n",
    "# question.\n",
    "\n",
    "# And thirdly, retrieve a pre-selected number of documents relevant to this question.\n",
    "\n",
    "# At the next step, these retrieved documents will be fed to an LLM to devise a response.\n",
    "\n",
    "# So let's create a variable called question defined as follows."
   ]
  },
  {
   "cell_type": "code",
   "execution_count": 17,
   "id": "212b3623-36a6-4701-bead-8d34948bb1f8",
   "metadata": {},
   "outputs": [],
   "source": [
    "vectorstore = Chroma(persist_directory = \"./intro-to-ds-lectures\", \n",
    "                     embedding_function = embedding)"
   ]
  },
  {
   "cell_type": "code",
   "execution_count": 18,
   "id": "0838ec8b-3924-4449-a77e-4ba368b058e1",
   "metadata": {},
   "outputs": [],
   "source": [
    "added_document = Document(page_content='Alright! So… How are the techniques used in data, business intelligence, or predictive analytics applied in real life? Certainly, with the help of computers. You can basically split the relevant tools into two categories—programming languages and software. Knowing a programming language enables you to devise programs that can execute specific operations. Moreover, you can reuse these programs whenever you need to execute the same action', \n",
    "                          metadata={'Course Title': 'Introduction to Data and Data Science', \n",
    "                                    'Lecture Title': 'Programming Languages & Software Employed in Data Science - All the Tools You Need'})"
   ]
  },
  {
   "cell_type": "code",
   "execution_count": 19,
   "id": "4d1fa36f-2f66-4139-b86d-7867554ab60c",
   "metadata": {},
   "outputs": [
    {
     "data": {
      "text/plain": [
       "['e723440e-a268-4c60-9591-eff9f778a887']"
      ]
     },
     "execution_count": 19,
     "metadata": {},
     "output_type": "execute_result"
    }
   ],
   "source": [
    "vectorstore.add_documents([added_document])"
   ]
  },
  {
   "cell_type": "code",
   "execution_count": 20,
   "id": "30b0dcd8-4560-4a37-8da2-511047a64691",
   "metadata": {},
   "outputs": [],
   "source": [
    "question = \"What programming languages do data scientists use?\""
   ]
  },
  {
   "cell_type": "code",
   "execution_count": 21,
   "id": "e94fe9ea-4f0b-4617-8fd3-b5c7aa6acc91",
   "metadata": {},
   "outputs": [],
   "source": [
    "retrieved_docs = vectorstore.similarity_search(query = question, \n",
    "                                               k = 5)"
   ]
  },
  {
   "cell_type": "code",
   "execution_count": null,
   "id": "baa80c37-890f-4152-8e28-4843812432cf",
   "metadata": {},
   "outputs": [],
   "source": [
    "# The first parameter we must pass is query.\n",
    "\n",
    "# Our question.\n",
    "\n",
    "# The second parameter to set is k corresponding to the number of retrieved documents.\n",
    "\n",
    "# It defaults to four, but let's change its value to five documents, allowing us to identify a pain\n",
    "\n",
    "# point in the similarity search algorithm."
   ]
  },
  {
   "cell_type": "code",
   "execution_count": 22,
   "id": "3ae0fb0e-b418-47de-9fd1-e2c14dd60505",
   "metadata": {},
   "outputs": [
    {
     "data": {
      "text/plain": [
       "[Document(metadata={'Course Title': 'Introduction to Data and Data Science', 'Lecture Title': 'Programming Languages & Software Employed in Data Science - All the Tools You Need'}, page_content='What about big data? Apart from R and Python, people working in this area are often proficient in other languages like Java or Scala. These two have not been developed specifically for doing statistical analyses, however they turn out to be very useful when combining data from multiple sources. All right! Let’s finish off with machine learning. When it comes to machine learning, we often deal with big data'),\n",
       " Document(metadata={'Course Title': 'Introduction to Data and Data Science', 'Lecture Title': 'Programming Languages & Software Employed in Data Science - All the Tools You Need'}, page_content='What about big data? Apart from R and Python, people working in this area are often proficient in other languages like Java or Scala. These two have not been developed specifically for doing statistical analyses, however they turn out to be very useful when combining data from multiple sources. All right! Let’s finish off with machine learning. When it comes to machine learning, we often deal with big data'),\n",
       " Document(metadata={'Course Title': 'Introduction to Data and Data Science', 'Lecture Title': 'Programming Languages & Software Employed in Data Science - All the Tools You Need'}, page_content='Thus, we need a lot of computational power, and we can expect people to use the languages similar to those in the big data column. Apart from R, Python, and MATLAB, other, faster languages are used like Java, JavaScript, C, C++, and Scala. Cool. What we said may be wonderful, but that’s not all! By using one or more programming languages, people create application software or, as they are sometimes called, software solutions, that are adjusted for specific business needs'),\n",
       " Document(metadata={'Course Title': 'Introduction to Data and Data Science', 'Lecture Title': 'Programming Languages & Software Employed in Data Science - All the Tools You Need'}, page_content='Thus, we need a lot of computational power, and we can expect people to use the languages similar to those in the big data column. Apart from R, Python, and MATLAB, other, faster languages are used like Java, JavaScript, C, C++, and Scala. Cool. What we said may be wonderful, but that’s not all! By using one or more programming languages, people create application software or, as they are sometimes called, software solutions, that are adjusted for specific business needs'),\n",
       " Document(metadata={'Course Title': 'Introduction to Data and Data Science', 'Lecture Title': 'Programming Languages & Software Employed in Data Science - All the Tools You Need'}, page_content='As you can see from the infographic, R, and Python are the two most popular tools across all columns. Their biggest advantage is that they can manipulate data and are integrated within multiple data and data science software platforms. They are not just suitable for mathematical and statistical computations. In other words, R, and Python are adaptable. They can solve a wide variety of business and data-related problems from beginning to the end')]"
      ]
     },
     "execution_count": 22,
     "metadata": {},
     "output_type": "execute_result"
    }
   ],
   "source": [
    "retrieved_docs"
   ]
  },
  {
   "cell_type": "code",
   "execution_count": null,
   "id": "ca509bd5-55b6-43e2-b791-dd938f589a06",
   "metadata": {},
   "outputs": [],
   "source": [
    "# Displaying the variable, we find that retrieved documents is a list of five documents.\n",
    "\n",
    "# I find this a bit difficult to read, so let me use a for loop that displays only the page content and\n",
    "\n",
    "# the lecture title of each document.\n",
    "\n",
    "# Much better."
   ]
  },
  {
   "cell_type": "code",
   "execution_count": 23,
   "id": "841c62cd-d0f6-429d-8d66-3862505e458d",
   "metadata": {},
   "outputs": [
    {
     "name": "stdout",
     "output_type": "stream",
     "text": [
      "Page Content: What about big data? Apart from R and Python, people working in this area are often proficient in other languages like Java or Scala. These two have not been developed specifically for doing statistical analyses, however they turn out to be very useful when combining data from multiple sources. All right! Let’s finish off with machine learning. When it comes to machine learning, we often deal with big data\n",
      "----------\n",
      "Lecture Title:Programming Languages & Software Employed in Data Science - All the Tools You Need\n",
      "\n",
      "Page Content: What about big data? Apart from R and Python, people working in this area are often proficient in other languages like Java or Scala. These two have not been developed specifically for doing statistical analyses, however they turn out to be very useful when combining data from multiple sources. All right! Let’s finish off with machine learning. When it comes to machine learning, we often deal with big data\n",
      "----------\n",
      "Lecture Title:Programming Languages & Software Employed in Data Science - All the Tools You Need\n",
      "\n",
      "Page Content: Thus, we need a lot of computational power, and we can expect people to use the languages similar to those in the big data column. Apart from R, Python, and MATLAB, other, faster languages are used like Java, JavaScript, C, C++, and Scala. Cool. What we said may be wonderful, but that’s not all! By using one or more programming languages, people create application software or, as they are sometimes called, software solutions, that are adjusted for specific business needs\n",
      "----------\n",
      "Lecture Title:Programming Languages & Software Employed in Data Science - All the Tools You Need\n",
      "\n",
      "Page Content: Thus, we need a lot of computational power, and we can expect people to use the languages similar to those in the big data column. Apart from R, Python, and MATLAB, other, faster languages are used like Java, JavaScript, C, C++, and Scala. Cool. What we said may be wonderful, but that’s not all! By using one or more programming languages, people create application software or, as they are sometimes called, software solutions, that are adjusted for specific business needs\n",
      "----------\n",
      "Lecture Title:Programming Languages & Software Employed in Data Science - All the Tools You Need\n",
      "\n",
      "Page Content: As you can see from the infographic, R, and Python are the two most popular tools across all columns. Their biggest advantage is that they can manipulate data and are integrated within multiple data and data science software platforms. They are not just suitable for mathematical and statistical computations. In other words, R, and Python are adaptable. They can solve a wide variety of business and data-related problems from beginning to the end\n",
      "----------\n",
      "Lecture Title:Programming Languages & Software Employed in Data Science - All the Tools You Need\n",
      "\n"
     ]
    }
   ],
   "source": [
    "for i in retrieved_docs:\n",
    "    print(f\"Page Content: {i.page_content}\\n----------\\nLecture Title:{i.metadata['Lecture Title']}\\n\")"
   ]
  },
  {
   "cell_type": "markdown",
   "id": "4f9b3048-18e8-4d7f-ad13-744e3fb465d4",
   "metadata": {},
   "source": [
    "# Retrieval: Maximal Marginal Relevance Search"
   ]
  },
  {
   "cell_type": "code",
   "execution_count": 24,
   "id": "94c298aa-eaa4-4d0d-9986-6c41f844b7cc",
   "metadata": {},
   "outputs": [],
   "source": [
    "question = \"What software do data scientists use?\""
   ]
  },
  {
   "cell_type": "code",
   "execution_count": 25,
   "id": "d257fcd6-8220-4134-9f15-ee3fa9c71b7b",
   "metadata": {},
   "outputs": [],
   "source": [
    "retrieved_docs = vectorstore.max_marginal_relevance_search(\n",
    "    query=question, \n",
    "    k=3, \n",
    "    lambda_mult = 1, \n",
    "    filter = {\"Lecture Title\": \"Programming Languages & Software Employed in Data Science - All the Tools You Need\"}\n",
    ")"
   ]
  },
  {
   "cell_type": "code",
   "execution_count": 26,
   "id": "441cb9ee-b729-48e7-90e3-a1374b5d6452",
   "metadata": {},
   "outputs": [
    {
     "name": "stdout",
     "output_type": "stream",
     "text": [
      "Page Content: As you can see from the infographic, R, and Python are the two most popular tools across all columns. Their biggest advantage is that they can manipulate data and are integrated within multiple data and data science software platforms. They are not just suitable for mathematical and statistical computations. In other words, R, and Python are adaptable. They can solve a wide variety of business and data-related problems from beginning to the end\n",
      "----------\n",
      "Lecture Title:Programming Languages & Software Employed in Data Science - All the Tools You Need\n",
      "\n",
      "Page Content: As you can see from the infographic, R, and Python are the two most popular tools across all columns. Their biggest advantage is that they can manipulate data and are integrated within multiple data and data science software platforms. They are not just suitable for mathematical and statistical computations. In other words, R, and Python are adaptable. They can solve a wide variety of business and data-related problems from beginning to the end\n",
      "----------\n",
      "Lecture Title:Programming Languages & Software Employed in Data Science - All the Tools You Need\n",
      "\n",
      "Page Content: Alright! So… How are the techniques used in data, business intelligence, or predictive analytics applied in real life? Certainly, with the help of computers. You can basically split the relevant tools into two categories—programming languages and software. Knowing a programming language enables you to devise programs that can execute specific operations. Moreover, you can reuse these programs whenever you need to execute the same action\n",
      "----------\n",
      "Lecture Title:Programming Languages & Software Employed in Data Science - All the Tools You Need\n",
      "\n"
     ]
    }
   ],
   "source": [
    "for i in retrieved_docs:\n",
    "    print(f\"Page Content: {i.page_content}\\n----------\\nLecture Title:{i.metadata['Lecture Title']}\\n\")"
   ]
  },
  {
   "cell_type": "markdown",
   "id": "9b45d223-64e1-41c7-8d78-6702a552a0d3",
   "metadata": {},
   "source": [
    "# Generation: Stuffing Documents"
   ]
  },
  {
   "cell_type": "code",
   "execution_count": 27,
   "id": "0c4cccb1-1e34-4d06-8911-856d2d33272a",
   "metadata": {},
   "outputs": [],
   "source": [
    "from langchain_openai.embeddings import OpenAIEmbeddings\n",
    "from langchain_community.vectorstores import Chroma\n",
    "from langchain_core.prompts import PromptTemplate\n",
    "from langchain_openai import ChatOpenAI\n",
    "from langchain_core.runnables import RunnablePassthrough\n",
    "from langchain_core.runnables import RunnableParallel\n",
    "from langchain_core.output_parsers import StrOutputParser"
   ]
  },
  {
   "cell_type": "code",
   "execution_count": 28,
   "id": "ffe69433-2468-4665-9d83-81971fdd938d",
   "metadata": {},
   "outputs": [],
   "source": [
    "vectorstore = Chroma(persist_directory = \"./intro-to-ds-lectures\", \n",
    "                     embedding_function = OpenAIEmbeddings(model='text-embedding-ada-002'))"
   ]
  },
  {
   "cell_type": "code",
   "execution_count": 29,
   "id": "9d456952-4a13-44a1-9e55-074318839648",
   "metadata": {},
   "outputs": [
    {
     "data": {
      "text/plain": [
       "42"
      ]
     },
     "execution_count": 29,
     "metadata": {},
     "output_type": "execute_result"
    }
   ],
   "source": [
    "len(vectorstore.get()['documents'])"
   ]
  },
  {
   "cell_type": "code",
   "execution_count": 30,
   "id": "9e8ee777-e655-4b7d-a522-867236e0f158",
   "metadata": {},
   "outputs": [],
   "source": [
    "retriever = vectorstore.as_retriever(search_type = 'mmr', \n",
    "                                     search_kwargs = {'k':3, \n",
    "                                                      'lambda_mult':0.7})"
   ]
  },
  {
   "cell_type": "code",
   "execution_count": 31,
   "id": "f293a6f7-23af-4155-a7b9-11a743a4b865",
   "metadata": {},
   "outputs": [],
   "source": [
    "TEMPLATE = '''\n",
    "Answer the following question:\n",
    "{question}\n",
    "\n",
    "To answer the question, use only the following context:\n",
    "{context}\n",
    "\n",
    "At the end of the response, specify the name of the lecture this context is taken from in the format:\n",
    "Resources: *Lecture Title*\n",
    "where *Lecture Title* should be substituted with the title of all resource lectures.\n",
    "'''\n",
    "\n",
    "prompt_template = PromptTemplate.from_template(TEMPLATE)"
   ]
  },
  {
   "cell_type": "code",
   "execution_count": 32,
   "id": "efa17410-8924-49be-aa34-e16851ea6d99",
   "metadata": {},
   "outputs": [
    {
     "name": "stderr",
     "output_type": "stream",
     "text": [
      "C:\\Users\\HP\\anaconda3\\envs\\longchain_env\\lib\\site-packages\\IPython\\core\\interactiveshell.py:3519: UserWarning: Parameters {'seed'} should be specified explicitly. Instead they were passed in as part of `model_kwargs` parameter.\n",
      "  if await self.run_code(code, result, async_=asy):\n"
     ]
    }
   ],
   "source": [
    "chat = ChatOpenAI(model_name = 'gpt-4', \n",
    "                  model_kwargs = {'seed':365},\n",
    "                  max_tokens = 250)"
   ]
  },
  {
   "cell_type": "code",
   "execution_count": 33,
   "id": "664d9c2a-5d51-4376-b1fe-ce01ce7d6928",
   "metadata": {},
   "outputs": [],
   "source": [
    "question = \"What software do data scientists use?\""
   ]
  },
  {
   "cell_type": "code",
   "execution_count": 34,
   "id": "8c39669e-c3a5-43bd-8b3a-0d877862c506",
   "metadata": {},
   "outputs": [],
   "source": [
    "chain = {'context': retriever, \n",
    "         'question': RunnablePassthrough()} | prompt_template"
   ]
  },
  {
   "cell_type": "code",
   "execution_count": 35,
   "id": "8f79687b-c94a-4145-9476-90d5d9c2588f",
   "metadata": {},
   "outputs": [
    {
     "data": {
      "text/plain": [
       "StringPromptValue(text=\"\\nAnswer the following question:\\nWhat software do data scientists use?\\n\\nTo answer the question, use only the following context:\\n[Document(metadata={'Course Title': 'Introduction to Data and Data Science', 'Lecture Title': 'Programming Languages & Software Employed in Data Science - All the Tools You Need'}, page_content='As you can see from the infographic, R, and Python are the two most popular tools across all columns. Their biggest advantage is that they can manipulate data and are integrated within multiple data and data science software platforms. They are not just suitable for mathematical and statistical computations. In other words, R, and Python are adaptable. They can solve a wide variety of business and data-related problems from beginning to the end'), Document(metadata={'Course Title': 'Introduction to Data and Data Science', 'Lecture Title': 'Programming Languages & Software Employed in Data Science - All the Tools You Need'}, page_content='It’s actually a software framework which was designed to address the complexity of big data and its computational intensity. Most notably, Hadoop distributes the computational tasks on multiple computers which is basically the way to handle big data nowadays. Power BI, SaS, Qlik, and especially Tableau are top-notch examples of software designed for business intelligence visualizations'), Document(metadata={'Course Title': 'Introduction to Data and Data Science', 'Lecture Title': 'Programming Languages & Software Employed in Data Science - All the Tools You Need'}, page_content='Great! We hope we gave you a good idea about the level of applicability of the most frequently used programming and software tools in the field of data science. Thank you for watching!')]\\n\\nAt the end of the response, specify the name of the lecture this context is taken from in the format:\\nResources: *Lecture Title*\\nwhere *Lecture Title* should be substituted with the title of all resource lectures.\\n\")"
      ]
     },
     "execution_count": 35,
     "metadata": {},
     "output_type": "execute_result"
    }
   ],
   "source": [
    "chain.invoke(question)"
   ]
  },
  {
   "cell_type": "code",
   "execution_count": 36,
   "id": "2d7e1d31-5c0c-4d3b-88c3-56a9f3cabb39",
   "metadata": {},
   "outputs": [
    {
     "name": "stdout",
     "output_type": "stream",
     "text": [
      "\n",
      "Answer the following question:\n",
      "What software do data scientists use?\n",
      "\n",
      "To answer the question, use only the following context:\n",
      "[Document(page_content='As you can see from the infographic, R, and Python are the two most popular tools across all columns. Their biggest advantage is that they can manipulate data and are integrated within multiple data and data science software platforms. They are not just suitable for mathematical and statistical computations. In other words, R, and Python are adaptable. They can solve a wide variety of business and data-related problems from beginning to the end', metadata={'Course Title': 'Introduction to Data and Data Science', 'Lecture Title': 'Programming Languages & Software Employed in Data Science - All the Tools You Need'}), Document(page_content='It’s actually a software framework which was designed to address the complexity of big data and its computational intensity. Most notably, Hadoop distributes the computational tasks on multiple computers which is basically the way to handle big data nowadays. Power BI, SaS, Qlik, and especially Tableau are top-notch examples of software designed for business intelligence visualizations', metadata={'Course Title': 'Introduction to Data and Data Science', 'Lecture Title': 'Programming Languages & Software Employed in Data Science - All the Tools You Need'}), Document(page_content='Great! We hope we gave you a good idea about the level of applicability of the most frequently used programming and software tools in the field of data science. Thank you for watching!', metadata={'Course Title': 'Introduction to Data and Data Science', 'Lecture Title': 'Programming Languages & Software Employed in Data Science - All the Tools You Need'})]\n",
      "\n",
      "At the end of the response, specify the name of the lecture this context is taken from in the format:\n",
      "Resources: *Lecture Title*\n",
      "where *Lecture Title* should be substituted with the title of all resource lectures.\n",
      "\n"
     ]
    }
   ],
   "source": [
    "print(\"\\nAnswer the following question:\\nWhat software do data scientists use?\\n\\nTo answer the question, use only the following context:\\n[Document(page_content='As you can see from the infographic, R, and Python are the two most popular tools across all columns. Their biggest advantage is that they can manipulate data and are integrated within multiple data and data science software platforms. They are not just suitable for mathematical and statistical computations. In other words, R, and Python are adaptable. They can solve a wide variety of business and data-related problems from beginning to the end', metadata={'Course Title': 'Introduction to Data and Data Science', 'Lecture Title': 'Programming Languages & Software Employed in Data Science - All the Tools You Need'}), Document(page_content='It’s actually a software framework which was designed to address the complexity of big data and its computational intensity. Most notably, Hadoop distributes the computational tasks on multiple computers which is basically the way to handle big data nowadays. Power BI, SaS, Qlik, and especially Tableau are top-notch examples of software designed for business intelligence visualizations', metadata={'Course Title': 'Introduction to Data and Data Science', 'Lecture Title': 'Programming Languages & Software Employed in Data Science - All the Tools You Need'}), Document(page_content='Great! We hope we gave you a good idea about the level of applicability of the most frequently used programming and software tools in the field of data science. Thank you for watching!', metadata={'Course Title': 'Introduction to Data and Data Science', 'Lecture Title': 'Programming Languages & Software Employed in Data Science - All the Tools You Need'})]\\n\\nAt the end of the response, specify the name of the lecture this context is taken from in the format:\\nResources: *Lecture Title*\\nwhere *Lecture Title* should be substituted with the title of all resource lectures.\\n\")"
   ]
  },
  {
   "cell_type": "markdown",
   "id": "5e5474f5-dcfa-474e-ab3a-d32763738b0d",
   "metadata": {},
   "source": [
    "# Generation: Generating a Response"
   ]
  },
  {
   "cell_type": "code",
   "execution_count": 37,
   "id": "4aabbe21-ea38-47a8-965e-7bb63e8b6689",
   "metadata": {},
   "outputs": [],
   "source": [
    "chain = ({'context': retriever, \n",
    "         'question': RunnablePassthrough()} \n",
    "         | prompt_template \n",
    "         | chat \n",
    "         | StrOutputParser())"
   ]
  },
  {
   "cell_type": "code",
   "execution_count": 38,
   "id": "999365e5-de99-4a00-90a9-70a005f2b10c",
   "metadata": {},
   "outputs": [
    {
     "data": {
      "text/plain": [
       "'Data scientists use a variety of software and programming languages. R and Python are two of the most popular tools due to their ability to manipulate data and their integration within multiple data and data science software platforms. They can also solve a wide range of business and data-related problems. In addition to these, Hadoop, a software framework, is used to address the complexity of big data and its computational intensity. Furthermore, software like Power BI, SaS, Qlik, and Tableau are used for business intelligence visualizations.\\n\\nResources: Programming Languages & Software Employed in Data Science - All the Tools You Need'"
      ]
     },
     "execution_count": 38,
     "metadata": {},
     "output_type": "execute_result"
    }
   ],
   "source": [
    "chain.invoke(question)"
   ]
  },
  {
   "cell_type": "code",
   "execution_count": 39,
   "id": "55bece02-740c-4b5e-9b8b-3e29654fa482",
   "metadata": {},
   "outputs": [
    {
     "name": "stdout",
     "output_type": "stream",
     "text": [
      "Data scientists use a variety of software tools. R and Python are the two most popular tools as they can manipulate data and are integrated within multiple data and data science software platforms. They are adaptable and can solve a wide range of business and data-related problems. Hadoop is a software framework designed to handle the complexity and computational intensity of big data by distributing computational tasks on multiple computers. Additionally, Power BI, SaS, Qlik, and Tableau are top-notch examples of software designed for business intelligence visualizations.\n",
      "\n",
      "Resources: Programming Languages & Software Employed in Data Science - All the Tools You Need\n"
     ]
    }
   ],
   "source": [
    "print('Data scientists use a variety of software tools. R and Python are the two most popular tools as they can manipulate data and are integrated within multiple data and data science software platforms. They are adaptable and can solve a wide range of business and data-related problems. Hadoop is a software framework designed to handle the complexity and computational intensity of big data by distributing computational tasks on multiple computers. Additionally, Power BI, SaS, Qlik, and Tableau are top-notch examples of software designed for business intelligence visualizations.\\n\\nResources: Programming Languages & Software Employed in Data Science - All the Tools You Need')"
   ]
  },
  {
   "cell_type": "code",
   "execution_count": null,
   "id": "f68a87f2-c720-4709-b5c6-94d1684386f7",
   "metadata": {},
   "outputs": [],
   "source": []
  }
 ],
 "metadata": {
  "kernelspec": {
   "display_name": "longchain_env",
   "language": "python",
   "name": "longchain_env"
  },
  "language_info": {
   "codemirror_mode": {
    "name": "ipython",
    "version": 3
   },
   "file_extension": ".py",
   "mimetype": "text/x-python",
   "name": "python",
   "nbconvert_exporter": "python",
   "pygments_lexer": "ipython3",
   "version": "3.10.10"
  }
 },
 "nbformat": 4,
 "nbformat_minor": 5
}
